{
 "cells": [
  {
   "cell_type": "markdown",
   "metadata": {},
   "source": [
    "# Notebook for calculating the total of the groups presented in the main paper\n",
    "Note that the groups themselves were decided through a combination of inspection of the quantitative measures calculated in the analysis and manual inspection of data from individual crises (as well as checks with historical records)\n",
    "\n",
    "Hence this notebooks primarily exists to groups together crises for calculating the numbers reported in the text."
   ]
  },
  {
   "cell_type": "code",
   "execution_count": 1,
   "metadata": {},
   "outputs": [
    {
     "name": "stdout",
     "output_type": "stream",
     "text": [
      "saveFigures is set to: False\n",
      "Done loading packages\n"
     ]
    }
   ],
   "source": [
    "import numpy as np\n",
    "import pandas as pd\n",
    "\n",
    "import matplotlib.pyplot as plt\n",
    "%matplotlib widget\n",
    "\n",
    "# Load style\n",
    "plt.style.use('PlotStyle.mplstyle')\n",
    "import matplotlib.colors as colors\n",
    "plt.rcParams['axes.prop_cycle'] = plt.cycler(color=plt.cm.Dark2.colors)\n",
    "\n",
    "from datetime import datetime\n",
    "from tqdm import tqdm\n",
    "\n",
    "import os\n",
    "\n",
    "# Load functions\n",
    "import sys\n",
    "sys.path.append(\"../../ExcessMortality\")\n",
    "import ExcessMortalityFunctions as emf\n",
    "import AdditionalFunctions as ps\n",
    "\n",
    "\n",
    "pd.set_option('display.max_columns', 500)\n",
    "pd.set_option('display.max_rows', 500)\n",
    "pd.set_option('display.min_rows', 50)\n",
    "\n",
    "saveFigures = True\n",
    "saveFigures = False\n",
    "print('saveFigures is set to: '+str(saveFigures))\n",
    "print('Done loading packages')"
   ]
  },
  {
   "cell_type": "code",
   "execution_count": 2,
   "metadata": {},
   "outputs": [],
   "source": [
    "# Set paths\n",
    "pathData = '../Data/'\n",
    "pathResults = '../Data/AnalysisResults'\n",
    "pathFigs = '../Figures/'"
   ]
  },
  {
   "cell_type": "code",
   "execution_count": 3,
   "metadata": {},
   "outputs": [
    {
     "data": {
      "text/plain": [
       "'AllCrises_NonSmoothed_Years12_Threshold3_LowerThreshold2_MaxDaysBelow7_minLength0_minCount50_Clustered'"
      ]
     },
     "execution_count": 3,
     "metadata": {},
     "output_type": "execute_result"
    }
   ],
   "source": [
    "# Flags and analysis parameters used in main analysis, set here to load correct results\n",
    "numYears = 12 # Number of years on both sides of date to use for baseline calculations \n",
    "numYearsTot = (numYears*2) # The \"name\" of the baseline (i.e. +/- 5 years is a 10-year baseline, +/- 12 is a 24 year baseline)\n",
    "thresholdExcess = 3 # Threshold (in terms of Z-scores) for identifying a day as having increased excess\n",
    "\n",
    "# # Determine directory in which results was saved\n",
    "# pathResultsUpper = pathResults + f'_Years{numYears}_Threshold{thresholdExcess}/'\n",
    "\n",
    "# Additional parameters used\n",
    "thresholdLower = 2 # Lower threshold used for determining the start and end of periods (in terms of Z-scores)\n",
    "# maxDaysBelowThreshold = 4 # Number of days below thresholdLower before a period of excess is \"stopped\"\n",
    "# minimumLengthOfEpidemic = 4 # Minimal number of days above thresholdExcess which is counted as a period of excess \n",
    "maxDaysBelowThreshold = 7 # Number of days below thresholdLower before a period of excess is \"stopped\"\n",
    "minimumLengthOfEpidemic = 0 # Minimal number of days above thresholdExcess which is counted as a period of excess \n",
    "excessCountThreshold = 50 # Only save mortality crises with more than this number of excess deaths\n",
    "\n",
    "# Various tests for sensitivity\n",
    "# numYears = 6 # Number of years on both sides of date to use for baseline calculations \n",
    "# maxDaysBelowThreshold = 7 # Number of days below thresholdLower before a period of excess is \"stopped\"\n",
    "# excessCountThreshold = 20 # Only save mortality crises with more than this number of excess deaths\n",
    "\n",
    "\n",
    "# Determine filename to use for final results\n",
    "# finalResultsFilename = 'AllCrises'+f'_Years{numYears}_Threshold{thresholdExcess}_LowerThreshold{thresholdLower}_MaxDaysBelow{maxDaysBelowThreshold}_minLength{minimumLengthOfEpidemic}_minCount{excessCountThreshold}'\n",
    "finalResultsFilename = 'AllCrises'+f'_NonSmoothed_Years{numYears}_Threshold{thresholdExcess}_LowerThreshold{thresholdLower}_MaxDaysBelow{maxDaysBelowThreshold}_minLength{minimumLengthOfEpidemic}_minCount{excessCountThreshold}'\n",
    "finalResultsFilename = finalResultsFilename +'_Clustered'\n",
    "# finalResultsFilename = finalResultsFilename +'_Clustered_Grouped'\n",
    "finalResultsFilename "
   ]
  },
  {
   "cell_type": "code",
   "execution_count": 4,
   "metadata": {},
   "outputs": [],
   "source": [
    "# Load the table of results\n",
    "dfCrises = pd.read_csv(pathData + finalResultsFilename + '.csv')\n",
    "dfCrises['Start'] = pd.to_datetime(dfCrises['Start'])\n",
    "dfCrises['End'] = pd.to_datetime(dfCrises['End'])\n",
    "# dfCrises['DayWithMostBurials'] = pd.to_datetime(dfCrises['DayWithMostBurials'])\n",
    "dfCrises['DayWithMostDeaths'] = pd.to_datetime(dfCrises['DayWithMostDeaths'])"
   ]
  },
  {
   "cell_type": "code",
   "execution_count": 5,
   "metadata": {},
   "outputs": [],
   "source": [
    "# Add a flag for group\n",
    "dfCrises['Group'] = 'None'"
   ]
  },
  {
   "cell_type": "code",
   "execution_count": 6,
   "metadata": {},
   "outputs": [],
   "source": [
    "# dfCrises.head()"
   ]
  },
  {
   "cell_type": "code",
   "execution_count": 7,
   "metadata": {},
   "outputs": [],
   "source": [
    "# # dfCrises.head(20)\n",
    "# # dfCrises[dfCrises.Amt.str.contains('Århus')].head(20)\n",
    "# print(len(dfCrises[dfCrises.Amt.str.contains('Maribo')]))\n",
    "# dfCrises[dfCrises.Amt.str.contains('Maribo')]\n",
    "# # dfCrises[dfCrises.DayWithMostBurials.dt.year == 1872]"
   ]
  },
  {
   "cell_type": "code",
   "execution_count": 8,
   "metadata": {},
   "outputs": [],
   "source": [
    "# # dfCrises.head()\n",
    "# dfCrises[(dfCrises.DayWithMostDeaths.dt.year == 1831) & (dfCrises.Amt.str.contains('Præstø'))]\n",
    "# dfCrises[(dfCrises.DayWithMostDeaths.dt.year == 1831) & (dfCrises.Amt.str.contains('Sorø'))]\n",
    "# dfCrises[(dfCrises.DayWithMostDeaths.dt.year == 1872) & (dfCrises.Amt.str.contains('Maribo'))]\n",
    "# dfCrises[(dfCrises.DayWithMostDeaths.dt.year == 1874) & (dfCrises.Amt.str.contains('Odens'))]\n",
    "# dfCrises[(dfCrises.DayWithMostDeaths.dt.year == 1875) & (dfCrises.Amt.str.contains('Odens'))]\n",
    "# dfCrises[(dfCrises.DayWithMostDeaths.dt.year == 1875) & (dfCrises.Amt.str.contains('Svend'))]"
   ]
  },
  {
   "cell_type": "code",
   "execution_count": 9,
   "metadata": {},
   "outputs": [],
   "source": [
    "# # len(dfCrises)\n",
    "# dfCrises[dfCrises.Amt.str.contains('Thiste')]\n",
    "# dfCrises[dfCrises.D]"
   ]
  },
  {
   "cell_type": "code",
   "execution_count": 10,
   "metadata": {},
   "outputs": [],
   "source": [
    "# dfCrises.sort_values('NumberOfDays')"
   ]
  },
  {
   "cell_type": "code",
   "execution_count": 11,
   "metadata": {},
   "outputs": [],
   "source": [
    "# dfCrises.groupby('Amt').count()['Start']"
   ]
  },
  {
   "cell_type": "code",
   "execution_count": 12,
   "metadata": {},
   "outputs": [],
   "source": [
    "# dfCrises.groupby('Amt').sum()['Excess']"
   ]
  },
  {
   "cell_type": "markdown",
   "metadata": {},
   "source": [
    "# Cholera"
   ]
  },
  {
   "cell_type": "code",
   "execution_count": 13,
   "metadata": {},
   "outputs": [],
   "source": [
    "# dfCrises[(dfCrises.DayWithMostDeaths.dt.year == 1853)]"
   ]
  },
  {
   "cell_type": "code",
   "execution_count": 14,
   "metadata": {},
   "outputs": [],
   "source": [
    "# # # Deadliest crises in 1853 is cholera. Get the cluster-ID\n",
    "# # cholCluster = dfCrises[(dfCrises.DayWithMostBurials.dt.year == 1853)].iloc[0].Cluster\n",
    "\n",
    "# # # All crises with same age-pattern in 1853 appears to be cholera\n",
    "# # dfChol = dfCrises[(dfCrises.Cluster == cholCluster)&(dfCrises.DayWithMostBurials.dt.year == 1853)].copy()\n",
    "\n",
    "# # # A crisis in Svendborg appears to be in the same cluster, but with no elderly mortality, so sort that out\n",
    "# # dfChol = dfChol[dfChol['FracAll_60+'] > 0.001]\n",
    "# # dfChol \n",
    "\n",
    "# # Deadliest crises in 1853 is cholera. Get the cluster-ID\n",
    "# cholCluster = dfCrises[(dfCrises.DayWithMostDeaths.dt.year == 1853)].iloc[0].Cluster\n",
    "\n",
    "# # All crises with same age-pattern in 1853 appears to be cholera\n",
    "# dfChol = dfCrises[(dfCrises.Cluster == cholCluster)&(dfCrises.DayWithMostDeaths.dt.year == 1853)].copy()\n",
    "\n",
    "# dfChol"
   ]
  },
  {
   "cell_type": "code",
   "execution_count": 15,
   "metadata": {},
   "outputs": [
    {
     "name": "stdout",
     "output_type": "stream",
     "text": [
      "['Staden København' 'Københavns Amt' 'Ålborg Amt' 'Århus Amt'\n",
      " 'Frederiksborg Amt' 'Hjørring Amt']\n",
      "Total excess: 5154\n",
      "Indices: [  0  11  18  61 337 400]\n",
      "D    6\n",
      "Name: Cluster, dtype: int64\n"
     ]
    },
    {
     "data": {
      "text/html": [
       "<div>\n",
       "<style scoped>\n",
       "    .dataframe tbody tr th:only-of-type {\n",
       "        vertical-align: middle;\n",
       "    }\n",
       "\n",
       "    .dataframe tbody tr th {\n",
       "        vertical-align: top;\n",
       "    }\n",
       "\n",
       "    .dataframe thead th {\n",
       "        text-align: right;\n",
       "    }\n",
       "</style>\n",
       "<table border=\"1\" class=\"dataframe\">\n",
       "  <thead>\n",
       "    <tr style=\"text-align: right;\">\n",
       "      <th></th>\n",
       "      <th>Amt</th>\n",
       "      <th>Start</th>\n",
       "      <th>End</th>\n",
       "      <th>NumberOfDays</th>\n",
       "      <th>DayWithMostDeaths</th>\n",
       "      <th>Excess</th>\n",
       "      <th>ExcessPct</th>\n",
       "      <th>GenderRatio</th>\n",
       "      <th>TimeOfYear</th>\n",
       "      <th>Season</th>\n",
       "      <th>PopulationEstimate</th>\n",
       "      <th>Exc_Infants_stillborn</th>\n",
       "      <th>Exc_1-14</th>\n",
       "      <th>Exc_15-39</th>\n",
       "      <th>Exc_40-59</th>\n",
       "      <th>Exc_60+</th>\n",
       "      <th>Pct_Infants_stillborn</th>\n",
       "      <th>Pct_1-14</th>\n",
       "      <th>Pct_15-39</th>\n",
       "      <th>Pct_40-59</th>\n",
       "      <th>Pct_60+</th>\n",
       "      <th>DataSum_Infants_stillborn</th>\n",
       "      <th>DataSum_1-14</th>\n",
       "      <th>DataSum_15-39</th>\n",
       "      <th>DataSum_40-59</th>\n",
       "      <th>DataSum_60+</th>\n",
       "      <th>Baseline_Infants_stillborn</th>\n",
       "      <th>Baseline_1-14</th>\n",
       "      <th>Baseline_15-39</th>\n",
       "      <th>Baseline_40-59</th>\n",
       "      <th>Baseline_60+</th>\n",
       "      <th>FracAll_Infants_stillborn</th>\n",
       "      <th>FracAll_1-14</th>\n",
       "      <th>FracAll_15-39</th>\n",
       "      <th>FracAll_40-59</th>\n",
       "      <th>FracAll_60+</th>\n",
       "      <th>AgeSplitSumExc</th>\n",
       "      <th>Cluster</th>\n",
       "      <th>ClusterA_Prob</th>\n",
       "      <th>ClusterB_Prob</th>\n",
       "      <th>ClusterC_Prob</th>\n",
       "      <th>ClusterD_Prob</th>\n",
       "      <th>ClusterE_Prob</th>\n",
       "      <th>ClusterF_Prob</th>\n",
       "      <th>Group</th>\n",
       "    </tr>\n",
       "  </thead>\n",
       "  <tbody>\n",
       "    <tr>\n",
       "      <th>0</th>\n",
       "      <td>Staden København</td>\n",
       "      <td>1853-07-02</td>\n",
       "      <td>1853-09-07</td>\n",
       "      <td>67</td>\n",
       "      <td>1853-07-28</td>\n",
       "      <td>3833</td>\n",
       "      <td>546.0</td>\n",
       "      <td>0.468578</td>\n",
       "      <td>Q3</td>\n",
       "      <td>Summer</td>\n",
       "      <td>139473.0</td>\n",
       "      <td>81.519622</td>\n",
       "      <td>444.281691</td>\n",
       "      <td>942.499200</td>\n",
       "      <td>1328.849144</td>\n",
       "      <td>882.057020</td>\n",
       "      <td>62.0</td>\n",
       "      <td>401.0</td>\n",
       "      <td>745.0</td>\n",
       "      <td>1217.0</td>\n",
       "      <td>825.0</td>\n",
       "      <td>212.0</td>\n",
       "      <td>555.0</td>\n",
       "      <td>1069.0</td>\n",
       "      <td>1438.0</td>\n",
       "      <td>989.0</td>\n",
       "      <td>130.480378</td>\n",
       "      <td>110.718309</td>\n",
       "      <td>126.500800</td>\n",
       "      <td>109.150857</td>\n",
       "      <td>106.942980</td>\n",
       "      <td>0.022157</td>\n",
       "      <td>0.120755</td>\n",
       "      <td>0.256169</td>\n",
       "      <td>0.361178</td>\n",
       "      <td>0.239741</td>\n",
       "      <td>3679.206677</td>\n",
       "      <td>D</td>\n",
       "      <td>0.0</td>\n",
       "      <td>0.0000</td>\n",
       "      <td>0.0</td>\n",
       "      <td>0.0</td>\n",
       "      <td>0.9897</td>\n",
       "      <td>0.0103</td>\n",
       "      <td>None</td>\n",
       "    </tr>\n",
       "    <tr>\n",
       "      <th>11</th>\n",
       "      <td>Københavns Amt</td>\n",
       "      <td>1853-07-16</td>\n",
       "      <td>1853-09-24</td>\n",
       "      <td>70</td>\n",
       "      <td>1853-07-31</td>\n",
       "      <td>578</td>\n",
       "      <td>206.0</td>\n",
       "      <td>0.480186</td>\n",
       "      <td>Q3</td>\n",
       "      <td>Summer</td>\n",
       "      <td>76787.0</td>\n",
       "      <td>16.390904</td>\n",
       "      <td>97.367909</td>\n",
       "      <td>149.324770</td>\n",
       "      <td>167.477201</td>\n",
       "      <td>155.673631</td>\n",
       "      <td>27.0</td>\n",
       "      <td>240.0</td>\n",
       "      <td>431.0</td>\n",
       "      <td>424.0</td>\n",
       "      <td>250.0</td>\n",
       "      <td>77.0</td>\n",
       "      <td>138.0</td>\n",
       "      <td>184.0</td>\n",
       "      <td>207.0</td>\n",
       "      <td>218.0</td>\n",
       "      <td>60.609096</td>\n",
       "      <td>40.632091</td>\n",
       "      <td>34.675230</td>\n",
       "      <td>39.522799</td>\n",
       "      <td>62.326369</td>\n",
       "      <td>0.027960</td>\n",
       "      <td>0.166090</td>\n",
       "      <td>0.254719</td>\n",
       "      <td>0.285683</td>\n",
       "      <td>0.265548</td>\n",
       "      <td>586.234414</td>\n",
       "      <td>D</td>\n",
       "      <td>0.0</td>\n",
       "      <td>0.0002</td>\n",
       "      <td>0.0</td>\n",
       "      <td>0.0</td>\n",
       "      <td>0.8438</td>\n",
       "      <td>0.1560</td>\n",
       "      <td>None</td>\n",
       "    </tr>\n",
       "    <tr>\n",
       "      <th>18</th>\n",
       "      <td>Ålborg Amt</td>\n",
       "      <td>1853-08-09</td>\n",
       "      <td>1853-09-17</td>\n",
       "      <td>39</td>\n",
       "      <td>1853-08-18</td>\n",
       "      <td>434</td>\n",
       "      <td>330.0</td>\n",
       "      <td>0.485866</td>\n",
       "      <td>Q3</td>\n",
       "      <td>Summer</td>\n",
       "      <td>69476.0</td>\n",
       "      <td>19.101878</td>\n",
       "      <td>56.522083</td>\n",
       "      <td>119.507082</td>\n",
       "      <td>126.132553</td>\n",
       "      <td>121.216074</td>\n",
       "      <td>49.0</td>\n",
       "      <td>306.0</td>\n",
       "      <td>825.0</td>\n",
       "      <td>910.0</td>\n",
       "      <td>394.0</td>\n",
       "      <td>58.0</td>\n",
       "      <td>75.0</td>\n",
       "      <td>134.0</td>\n",
       "      <td>140.0</td>\n",
       "      <td>152.0</td>\n",
       "      <td>38.898122</td>\n",
       "      <td>18.477917</td>\n",
       "      <td>14.492918</td>\n",
       "      <td>13.867448</td>\n",
       "      <td>30.783926</td>\n",
       "      <td>0.043170</td>\n",
       "      <td>0.127739</td>\n",
       "      <td>0.270085</td>\n",
       "      <td>0.285058</td>\n",
       "      <td>0.273947</td>\n",
       "      <td>442.479669</td>\n",
       "      <td>D</td>\n",
       "      <td>0.0</td>\n",
       "      <td>0.0001</td>\n",
       "      <td>0.0</td>\n",
       "      <td>0.0</td>\n",
       "      <td>0.8751</td>\n",
       "      <td>0.1248</td>\n",
       "      <td>None</td>\n",
       "    </tr>\n",
       "    <tr>\n",
       "      <th>61</th>\n",
       "      <td>Århus Amt</td>\n",
       "      <td>1853-07-15</td>\n",
       "      <td>1853-09-15</td>\n",
       "      <td>62</td>\n",
       "      <td>1853-08-24</td>\n",
       "      <td>201</td>\n",
       "      <td>138.0</td>\n",
       "      <td>0.488439</td>\n",
       "      <td>Q3</td>\n",
       "      <td>Summer</td>\n",
       "      <td>43290.0</td>\n",
       "      <td>8.343036</td>\n",
       "      <td>23.270502</td>\n",
       "      <td>56.005618</td>\n",
       "      <td>79.659821</td>\n",
       "      <td>47.305049</td>\n",
       "      <td>42.0</td>\n",
       "      <td>94.0</td>\n",
       "      <td>311.0</td>\n",
       "      <td>519.0</td>\n",
       "      <td>177.0</td>\n",
       "      <td>28.0</td>\n",
       "      <td>48.0</td>\n",
       "      <td>74.0</td>\n",
       "      <td>95.0</td>\n",
       "      <td>74.0</td>\n",
       "      <td>19.656964</td>\n",
       "      <td>24.729498</td>\n",
       "      <td>17.994382</td>\n",
       "      <td>15.340179</td>\n",
       "      <td>26.694951</td>\n",
       "      <td>0.038880</td>\n",
       "      <td>0.108445</td>\n",
       "      <td>0.260996</td>\n",
       "      <td>0.371229</td>\n",
       "      <td>0.220450</td>\n",
       "      <td>214.584026</td>\n",
       "      <td>D</td>\n",
       "      <td>0.0</td>\n",
       "      <td>0.0000</td>\n",
       "      <td>0.0</td>\n",
       "      <td>0.0</td>\n",
       "      <td>0.9961</td>\n",
       "      <td>0.0039</td>\n",
       "      <td>None</td>\n",
       "    </tr>\n",
       "    <tr>\n",
       "      <th>337</th>\n",
       "      <td>Frederiksborg Amt</td>\n",
       "      <td>1853-07-15</td>\n",
       "      <td>1853-08-13</td>\n",
       "      <td>29</td>\n",
       "      <td>1853-08-04</td>\n",
       "      <td>57</td>\n",
       "      <td>58.0</td>\n",
       "      <td>0.532051</td>\n",
       "      <td>Q3</td>\n",
       "      <td>Summer</td>\n",
       "      <td>77726.0</td>\n",
       "      <td>9.376153</td>\n",
       "      <td>5.274449</td>\n",
       "      <td>17.887493</td>\n",
       "      <td>11.916761</td>\n",
       "      <td>14.593050</td>\n",
       "      <td>88.0</td>\n",
       "      <td>34.0</td>\n",
       "      <td>136.0</td>\n",
       "      <td>85.0</td>\n",
       "      <td>60.0</td>\n",
       "      <td>20.0</td>\n",
       "      <td>21.0</td>\n",
       "      <td>31.0</td>\n",
       "      <td>26.0</td>\n",
       "      <td>39.0</td>\n",
       "      <td>10.623847</td>\n",
       "      <td>15.725551</td>\n",
       "      <td>13.112507</td>\n",
       "      <td>14.083239</td>\n",
       "      <td>24.406950</td>\n",
       "      <td>0.158789</td>\n",
       "      <td>0.089325</td>\n",
       "      <td>0.302932</td>\n",
       "      <td>0.201815</td>\n",
       "      <td>0.247139</td>\n",
       "      <td>59.047907</td>\n",
       "      <td>D</td>\n",
       "      <td>0.0</td>\n",
       "      <td>0.0069</td>\n",
       "      <td>0.0</td>\n",
       "      <td>0.0</td>\n",
       "      <td>0.8180</td>\n",
       "      <td>0.1752</td>\n",
       "      <td>None</td>\n",
       "    </tr>\n",
       "    <tr>\n",
       "      <th>400</th>\n",
       "      <td>Hjørring Amt</td>\n",
       "      <td>1853-08-14</td>\n",
       "      <td>1853-08-31</td>\n",
       "      <td>17</td>\n",
       "      <td>1853-08-14</td>\n",
       "      <td>51</td>\n",
       "      <td>96.0</td>\n",
       "      <td>0.596154</td>\n",
       "      <td>Q3</td>\n",
       "      <td>Summer</td>\n",
       "      <td>74944.0</td>\n",
       "      <td>3.839448</td>\n",
       "      <td>10.508379</td>\n",
       "      <td>10.477626</td>\n",
       "      <td>11.644575</td>\n",
       "      <td>10.094203</td>\n",
       "      <td>62.0</td>\n",
       "      <td>124.0</td>\n",
       "      <td>232.0</td>\n",
       "      <td>347.0</td>\n",
       "      <td>93.0</td>\n",
       "      <td>10.0</td>\n",
       "      <td>19.0</td>\n",
       "      <td>15.0</td>\n",
       "      <td>15.0</td>\n",
       "      <td>21.0</td>\n",
       "      <td>6.160552</td>\n",
       "      <td>8.491621</td>\n",
       "      <td>4.522374</td>\n",
       "      <td>3.355425</td>\n",
       "      <td>10.905797</td>\n",
       "      <td>0.082455</td>\n",
       "      <td>0.225675</td>\n",
       "      <td>0.225014</td>\n",
       "      <td>0.250076</td>\n",
       "      <td>0.216780</td>\n",
       "      <td>46.564230</td>\n",
       "      <td>D</td>\n",
       "      <td>0.0</td>\n",
       "      <td>0.0314</td>\n",
       "      <td>0.0</td>\n",
       "      <td>0.0</td>\n",
       "      <td>0.7433</td>\n",
       "      <td>0.2253</td>\n",
       "      <td>None</td>\n",
       "    </tr>\n",
       "  </tbody>\n",
       "</table>\n",
       "</div>"
      ],
      "text/plain": [
       "                   Amt      Start        End  NumberOfDays DayWithMostDeaths  \\\n",
       "0     Staden København 1853-07-02 1853-09-07            67        1853-07-28   \n",
       "11      Københavns Amt 1853-07-16 1853-09-24            70        1853-07-31   \n",
       "18          Ålborg Amt 1853-08-09 1853-09-17            39        1853-08-18   \n",
       "61           Århus Amt 1853-07-15 1853-09-15            62        1853-08-24   \n",
       "337  Frederiksborg Amt 1853-07-15 1853-08-13            29        1853-08-04   \n",
       "400       Hjørring Amt 1853-08-14 1853-08-31            17        1853-08-14   \n",
       "\n",
       "     Excess  ExcessPct  GenderRatio TimeOfYear  Season  PopulationEstimate  \\\n",
       "0      3833      546.0     0.468578         Q3  Summer            139473.0   \n",
       "11      578      206.0     0.480186         Q3  Summer             76787.0   \n",
       "18      434      330.0     0.485866         Q3  Summer             69476.0   \n",
       "61      201      138.0     0.488439         Q3  Summer             43290.0   \n",
       "337      57       58.0     0.532051         Q3  Summer             77726.0   \n",
       "400      51       96.0     0.596154         Q3  Summer             74944.0   \n",
       "\n",
       "     Exc_Infants_stillborn    Exc_1-14   Exc_15-39    Exc_40-59     Exc_60+  \\\n",
       "0                81.519622  444.281691  942.499200  1328.849144  882.057020   \n",
       "11               16.390904   97.367909  149.324770   167.477201  155.673631   \n",
       "18               19.101878   56.522083  119.507082   126.132553  121.216074   \n",
       "61                8.343036   23.270502   56.005618    79.659821   47.305049   \n",
       "337               9.376153    5.274449   17.887493    11.916761   14.593050   \n",
       "400               3.839448   10.508379   10.477626    11.644575   10.094203   \n",
       "\n",
       "     Pct_Infants_stillborn  Pct_1-14  Pct_15-39  Pct_40-59  Pct_60+  \\\n",
       "0                     62.0     401.0      745.0     1217.0    825.0   \n",
       "11                    27.0     240.0      431.0      424.0    250.0   \n",
       "18                    49.0     306.0      825.0      910.0    394.0   \n",
       "61                    42.0      94.0      311.0      519.0    177.0   \n",
       "337                   88.0      34.0      136.0       85.0     60.0   \n",
       "400                   62.0     124.0      232.0      347.0     93.0   \n",
       "\n",
       "     DataSum_Infants_stillborn  DataSum_1-14  DataSum_15-39  DataSum_40-59  \\\n",
       "0                        212.0         555.0         1069.0         1438.0   \n",
       "11                        77.0         138.0          184.0          207.0   \n",
       "18                        58.0          75.0          134.0          140.0   \n",
       "61                        28.0          48.0           74.0           95.0   \n",
       "337                       20.0          21.0           31.0           26.0   \n",
       "400                       10.0          19.0           15.0           15.0   \n",
       "\n",
       "     DataSum_60+  Baseline_Infants_stillborn  Baseline_1-14  Baseline_15-39  \\\n",
       "0          989.0                  130.480378     110.718309      126.500800   \n",
       "11         218.0                   60.609096      40.632091       34.675230   \n",
       "18         152.0                   38.898122      18.477917       14.492918   \n",
       "61          74.0                   19.656964      24.729498       17.994382   \n",
       "337         39.0                   10.623847      15.725551       13.112507   \n",
       "400         21.0                    6.160552       8.491621        4.522374   \n",
       "\n",
       "     Baseline_40-59  Baseline_60+  FracAll_Infants_stillborn  FracAll_1-14  \\\n",
       "0        109.150857    106.942980                   0.022157      0.120755   \n",
       "11        39.522799     62.326369                   0.027960      0.166090   \n",
       "18        13.867448     30.783926                   0.043170      0.127739   \n",
       "61        15.340179     26.694951                   0.038880      0.108445   \n",
       "337       14.083239     24.406950                   0.158789      0.089325   \n",
       "400        3.355425     10.905797                   0.082455      0.225675   \n",
       "\n",
       "     FracAll_15-39  FracAll_40-59  FracAll_60+  AgeSplitSumExc Cluster  \\\n",
       "0         0.256169       0.361178     0.239741     3679.206677       D   \n",
       "11        0.254719       0.285683     0.265548      586.234414       D   \n",
       "18        0.270085       0.285058     0.273947      442.479669       D   \n",
       "61        0.260996       0.371229     0.220450      214.584026       D   \n",
       "337       0.302932       0.201815     0.247139       59.047907       D   \n",
       "400       0.225014       0.250076     0.216780       46.564230       D   \n",
       "\n",
       "     ClusterA_Prob  ClusterB_Prob  ClusterC_Prob  ClusterD_Prob  \\\n",
       "0              0.0         0.0000            0.0            0.0   \n",
       "11             0.0         0.0002            0.0            0.0   \n",
       "18             0.0         0.0001            0.0            0.0   \n",
       "61             0.0         0.0000            0.0            0.0   \n",
       "337            0.0         0.0069            0.0            0.0   \n",
       "400            0.0         0.0314            0.0            0.0   \n",
       "\n",
       "     ClusterE_Prob  ClusterF_Prob Group  \n",
       "0           0.9897         0.0103  None  \n",
       "11          0.8438         0.1560  None  \n",
       "18          0.8751         0.1248  None  \n",
       "61          0.9961         0.0039  None  \n",
       "337         0.8180         0.1752  None  \n",
       "400         0.7433         0.2253  None  "
      ]
     },
     "execution_count": 15,
     "metadata": {},
     "output_type": "execute_result"
    }
   ],
   "source": [
    "# Deadliest crises in 1853 is cholera. Get the cluster-ID\n",
    "cholCluster = dfCrises[(dfCrises.DayWithMostDeaths.dt.year == 1853)].iloc[0].Cluster\n",
    "\n",
    "# All crises with same age-pattern in 1853 appears to be cholera\n",
    "dfChol = dfCrises[(dfCrises.Cluster == cholCluster)&(dfCrises.DayWithMostDeaths.dt.year == 1853)].copy()\n",
    "\n",
    "# A crisis in Svendborg appears to be in the same cluster, but with no elderly mortality, so sort that out\n",
    "dfChol = dfChol[dfChol['FracAll_60+'] > 0.001]\n",
    "\n",
    "# Add label to main dataframe\n",
    "dfCrises.loc[(dfCrises.Cluster == cholCluster)&(dfCrises.DayWithMostDeaths.dt.year == 1853),'Group'] = 'Cholera (1853)'\n",
    "\n",
    "# Print results \n",
    "print(dfChol.Amt.values)\n",
    "print(f'Total excess: {dfChol.Excess.sum()}')\n",
    "print(f'Indices: {dfChol.index.values}')\n",
    "print(dfChol.Cluster.value_counts())\n",
    "dfChol"
   ]
  },
  {
   "cell_type": "code",
   "execution_count": 16,
   "metadata": {},
   "outputs": [
    {
     "name": "stdout",
     "output_type": "stream",
     "text": [
      "['Sorø Amt']\n",
      "Total excess: 431\n",
      "Indices: [20]\n",
      "D    1\n",
      "Name: Cluster, dtype: int64\n"
     ]
    },
    {
     "data": {
      "text/html": [
       "<div>\n",
       "<style scoped>\n",
       "    .dataframe tbody tr th:only-of-type {\n",
       "        vertical-align: middle;\n",
       "    }\n",
       "\n",
       "    .dataframe tbody tr th {\n",
       "        vertical-align: top;\n",
       "    }\n",
       "\n",
       "    .dataframe thead th {\n",
       "        text-align: right;\n",
       "    }\n",
       "</style>\n",
       "<table border=\"1\" class=\"dataframe\">\n",
       "  <thead>\n",
       "    <tr style=\"text-align: right;\">\n",
       "      <th></th>\n",
       "      <th>Amt</th>\n",
       "      <th>Start</th>\n",
       "      <th>End</th>\n",
       "      <th>NumberOfDays</th>\n",
       "      <th>DayWithMostDeaths</th>\n",
       "      <th>Excess</th>\n",
       "      <th>ExcessPct</th>\n",
       "      <th>GenderRatio</th>\n",
       "      <th>TimeOfYear</th>\n",
       "      <th>Season</th>\n",
       "      <th>PopulationEstimate</th>\n",
       "      <th>Exc_Infants_stillborn</th>\n",
       "      <th>Exc_1-14</th>\n",
       "      <th>Exc_15-39</th>\n",
       "      <th>Exc_40-59</th>\n",
       "      <th>Exc_60+</th>\n",
       "      <th>Pct_Infants_stillborn</th>\n",
       "      <th>Pct_1-14</th>\n",
       "      <th>Pct_15-39</th>\n",
       "      <th>Pct_40-59</th>\n",
       "      <th>Pct_60+</th>\n",
       "      <th>DataSum_Infants_stillborn</th>\n",
       "      <th>DataSum_1-14</th>\n",
       "      <th>DataSum_15-39</th>\n",
       "      <th>DataSum_40-59</th>\n",
       "      <th>DataSum_60+</th>\n",
       "      <th>Baseline_Infants_stillborn</th>\n",
       "      <th>Baseline_1-14</th>\n",
       "      <th>Baseline_15-39</th>\n",
       "      <th>Baseline_40-59</th>\n",
       "      <th>Baseline_60+</th>\n",
       "      <th>FracAll_Infants_stillborn</th>\n",
       "      <th>FracAll_1-14</th>\n",
       "      <th>FracAll_15-39</th>\n",
       "      <th>FracAll_40-59</th>\n",
       "      <th>FracAll_60+</th>\n",
       "      <th>AgeSplitSumExc</th>\n",
       "      <th>Cluster</th>\n",
       "      <th>ClusterA_Prob</th>\n",
       "      <th>ClusterB_Prob</th>\n",
       "      <th>ClusterC_Prob</th>\n",
       "      <th>ClusterD_Prob</th>\n",
       "      <th>ClusterE_Prob</th>\n",
       "      <th>ClusterF_Prob</th>\n",
       "      <th>Group</th>\n",
       "    </tr>\n",
       "  </thead>\n",
       "  <tbody>\n",
       "    <tr>\n",
       "      <th>20</th>\n",
       "      <td>Sorø Amt</td>\n",
       "      <td>1857-09-03</td>\n",
       "      <td>1857-10-24</td>\n",
       "      <td>51</td>\n",
       "      <td>1857-09-13</td>\n",
       "      <td>431</td>\n",
       "      <td>293.0</td>\n",
       "      <td>0.49827</td>\n",
       "      <td>Q3</td>\n",
       "      <td>Fall</td>\n",
       "      <td>78369.0</td>\n",
       "      <td>59.13914</td>\n",
       "      <td>98.851967</td>\n",
       "      <td>90.269904</td>\n",
       "      <td>115.338439</td>\n",
       "      <td>74.557213</td>\n",
       "      <td>165.0</td>\n",
       "      <td>393.0</td>\n",
       "      <td>540.0</td>\n",
       "      <td>618.0</td>\n",
       "      <td>216.0</td>\n",
       "      <td>95.0</td>\n",
       "      <td>124.0</td>\n",
       "      <td>107.0</td>\n",
       "      <td>134.0</td>\n",
       "      <td>109.0</td>\n",
       "      <td>35.86086</td>\n",
       "      <td>25.148033</td>\n",
       "      <td>16.730096</td>\n",
       "      <td>18.661561</td>\n",
       "      <td>34.442787</td>\n",
       "      <td>0.134973</td>\n",
       "      <td>0.225609</td>\n",
       "      <td>0.206022</td>\n",
       "      <td>0.263236</td>\n",
       "      <td>0.170161</td>\n",
       "      <td>438.156663</td>\n",
       "      <td>D</td>\n",
       "      <td>0.0</td>\n",
       "      <td>0.0218</td>\n",
       "      <td>0.0</td>\n",
       "      <td>0.0</td>\n",
       "      <td>0.8934</td>\n",
       "      <td>0.0847</td>\n",
       "      <td>None</td>\n",
       "    </tr>\n",
       "  </tbody>\n",
       "</table>\n",
       "</div>"
      ],
      "text/plain": [
       "         Amt      Start        End  NumberOfDays DayWithMostDeaths  Excess  \\\n",
       "20  Sorø Amt 1857-09-03 1857-10-24            51        1857-09-13     431   \n",
       "\n",
       "    ExcessPct  GenderRatio TimeOfYear Season  PopulationEstimate  \\\n",
       "20      293.0      0.49827         Q3   Fall             78369.0   \n",
       "\n",
       "    Exc_Infants_stillborn   Exc_1-14  Exc_15-39   Exc_40-59    Exc_60+  \\\n",
       "20               59.13914  98.851967  90.269904  115.338439  74.557213   \n",
       "\n",
       "    Pct_Infants_stillborn  Pct_1-14  Pct_15-39  Pct_40-59  Pct_60+  \\\n",
       "20                  165.0     393.0      540.0      618.0    216.0   \n",
       "\n",
       "    DataSum_Infants_stillborn  DataSum_1-14  DataSum_15-39  DataSum_40-59  \\\n",
       "20                       95.0         124.0          107.0          134.0   \n",
       "\n",
       "    DataSum_60+  Baseline_Infants_stillborn  Baseline_1-14  Baseline_15-39  \\\n",
       "20        109.0                    35.86086      25.148033       16.730096   \n",
       "\n",
       "    Baseline_40-59  Baseline_60+  FracAll_Infants_stillborn  FracAll_1-14  \\\n",
       "20       18.661561     34.442787                   0.134973      0.225609   \n",
       "\n",
       "    FracAll_15-39  FracAll_40-59  FracAll_60+  AgeSplitSumExc Cluster  \\\n",
       "20       0.206022       0.263236     0.170161      438.156663       D   \n",
       "\n",
       "    ClusterA_Prob  ClusterB_Prob  ClusterC_Prob  ClusterD_Prob  ClusterE_Prob  \\\n",
       "20            0.0         0.0218            0.0            0.0         0.8934   \n",
       "\n",
       "    ClusterF_Prob Group  \n",
       "20         0.0847  None  "
      ]
     },
     "execution_count": 16,
     "metadata": {},
     "output_type": "execute_result"
    }
   ],
   "source": [
    "\n",
    "# The 1857 cholera was only in Sorø amt\n",
    "dfChol2 = dfCrises[(dfCrises.Cluster == cholCluster)&(dfCrises.DayWithMostDeaths.dt.year == 1857) & (dfCrises.Amt.str.contains('Sorø'))].copy()\n",
    "\n",
    "dfCrises.loc[(dfCrises.Cluster == cholCluster)&(dfCrises.DayWithMostDeaths.dt.year == 1857),'Group'] = 'Cholera (1857)'\n",
    "\n",
    "print(dfChol2.Amt.values)\n",
    "print(f'Total excess: {dfChol2.Excess.sum()}')\n",
    "print(f'Indices: {dfChol2.index.values}')\n",
    "print(dfChol2.Cluster.value_counts())\n",
    "dfChol2\n"
   ]
  },
  {
   "cell_type": "code",
   "execution_count": 17,
   "metadata": {},
   "outputs": [],
   "source": [
    "# # Deadliest crises in 1853 is cholera. Get the cluster-ID\n",
    "# cholCluster = dfCrises[(dfCrises.DayWithMostBurials.dt.year == 1853)].iloc[0].Cluster\n",
    "\n",
    "# # All crises with same age-pattern in 1853 appears to be cholera\n",
    "# dfChol = dfCrises[(dfCrises.Cluster == cholCluster)&(dfCrises.DayWithMostBurials.dt.year == 1853)].copy()\n",
    "\n",
    "# # A crisis in Svendborg appears to be in the same cluster, but with no elderly mortality, so sort that out\n",
    "# dfChol = dfChol[dfChol['FracAll_60+'] > 0.001]\n",
    "\n",
    "# # Add label to main dataframe\n",
    "# dfCrises.loc[(dfCrises.Cluster == cholCluster)&(dfCrises.DayWithMostBurials.dt.year == 1853),'Group'] = 'Cholera (1853)'\n",
    "\n",
    "# # Print results \n",
    "# print(dfChol.Amt.values)\n",
    "# print(f'Total excess: {dfChol.Excess.sum()}')\n",
    "# print(f'Indices: {dfChol.index.values}')\n",
    "# print(dfChol.Cluster.value_counts())\n",
    "# dfChol"
   ]
  },
  {
   "cell_type": "code",
   "execution_count": 18,
   "metadata": {},
   "outputs": [],
   "source": [
    "\n",
    "# # The 1857 cholera was only in Sorø amt\n",
    "# dfChol2 = dfCrises[(dfCrises.Cluster == cholCluster)&(dfCrises.DayWithMostBurials.dt.year == 1857) & (dfCrises.Amt.str.contains('Sorø'))].copy()\n",
    "\n",
    "# dfCrises.loc[(dfCrises.Cluster == cholCluster)&(dfCrises.DayWithMostBurials.dt.year == 1857),'Group'] = 'Cholera (1857)'\n",
    "\n",
    "# print(dfChol2.Amt.values)\n",
    "# print(f'Total excess: {dfChol2.Excess.sum()}')\n",
    "# print(f'Indices: {dfChol2.index.values}')\n",
    "# print(dfChol2.Cluster.value_counts())\n",
    "# dfChol2\n"
   ]
  },
  {
   "cell_type": "code",
   "execution_count": 19,
   "metadata": {},
   "outputs": [
    {
     "name": "stdout",
     "output_type": "stream",
     "text": [
      "Total excess for cholera:\n"
     ]
    },
    {
     "data": {
      "text/plain": [
       "5585"
      ]
     },
     "execution_count": 19,
     "metadata": {},
     "output_type": "execute_result"
    }
   ],
   "source": [
    "print('Total excess for cholera:')\n",
    "pd.concat([dfChol,dfChol2]).Excess.sum()"
   ]
  },
  {
   "cell_type": "markdown",
   "metadata": {},
   "source": [
    "# Harvest epidemics, 1826-1832\n",
    "Between 1825 and 1833, most deadly between July to October, mostly cluster H\n",
    "\n",
    "(Exceptions to cluster G is Holbæk in 1830, and smaller parts in Maribo amt)\n",
    "\n",
    "A number of crises in 1832 are also included, although the age-cluster differs a little (cluster F instead of H)."
   ]
  },
  {
   "cell_type": "code",
   "execution_count": 20,
   "metadata": {},
   "outputs": [
    {
     "name": "stdout",
     "output_type": "stream",
     "text": [
      "['Maribo Amt' 'Præstø Amt' 'Sorø Amt' 'Holbæk Amt' 'Københavns Amt'\n",
      " 'Frederiksborg Amt' 'Svendborg Amt' 'Odense Amt' 'Sønderborg Amt']\n",
      "Total excess: 11024\n",
      "Part of that which is from excess in extra crises in 1832: 773\n",
      "Indices: [  1   2   3   4   6  10  24  26  40  43  51  53  59  60  72  81 121 128\n",
      " 131 146 150 166 187 194 213 255 275 409]\n",
      "E    22\n",
      "D     3\n",
      "C     2\n",
      "F     1\n",
      "Name: Cluster, dtype: int64\n"
     ]
    }
   ],
   "source": [
    "\n",
    "dfHarvest = dfCrises.copy()\n",
    "dfHarvest = dfHarvest[dfHarvest.DayWithMostDeaths > np.datetime64('1825')]\n",
    "dfHarvest = dfHarvest[dfHarvest.DayWithMostDeaths <= np.datetime64('1833')]\n",
    "\n",
    "dfHarvest = dfHarvest[dfHarvest.DayWithMostDeaths.dt.month > 7]\n",
    "dfHarvest = dfHarvest[dfHarvest.DayWithMostDeaths.dt.month <=10]\n",
    "dfHarvest\n",
    "\n",
    "# Add some extra crises from 1832 in the same amts\n",
    "dfHarvestExtra = dfCrises[(dfCrises.DayWithMostDeaths.dt.year == 1832) & (dfCrises.Amt.isin(dfHarvest.Amt.unique()))].copy()\n",
    "# dfHarvestExtra\n",
    "dfHarvestExtra\n",
    "# dfHarvest\n",
    "\n",
    "# Add extra to dfHarvest\n",
    "dfHarvest = pd.concat([dfHarvest,dfHarvestExtra]).sort_index()\n",
    "\n",
    "# Sort away Ribe amt\n",
    "dfHarvest = dfHarvest[~dfHarvest.Amt.str.contains('Ribe')]\n",
    "\n",
    "print(dfHarvest.Amt.unique())\n",
    "print(f'Total excess: {dfHarvest.Excess.sum()}')\n",
    "print(f'Part of that which is from excess in extra crises in 1832: {dfHarvestExtra.Excess.sum()}')\n",
    "print(f'Indices: {dfHarvest.index.values}')\n",
    "\n",
    "print(dfHarvest.Cluster.value_counts())\n",
    "# Update main dataframe\n",
    "dfCrises.loc[dfHarvest.index,'Group'] = 'Harvest-epidemics'\n",
    "\n",
    "# dfHarvest"
   ]
  },
  {
   "cell_type": "code",
   "execution_count": 21,
   "metadata": {},
   "outputs": [],
   "source": [
    "# dfHarvest.sort_values('DayWithMostDeaths')\n",
    "# dfHarvest.Cluster\n",
    "# dfHarvest[dfHarvest.Cluster == 'D']"
   ]
  },
  {
   "cell_type": "code",
   "execution_count": 22,
   "metadata": {},
   "outputs": [],
   "source": [
    "# dfHarvest.sort_values('DayWithMostDeaths')"
   ]
  },
  {
   "cell_type": "code",
   "execution_count": 23,
   "metadata": {},
   "outputs": [],
   "source": [
    "\n",
    "# dfHarvest = dfCrises.copy()\n",
    "# dfHarvest = dfHarvest[dfHarvest.DayWithMostBurials > np.datetime64('1825')]\n",
    "# dfHarvest = dfHarvest[dfHarvest.DayWithMostBurials <= np.datetime64('1833')]\n",
    "\n",
    "# dfHarvest = dfHarvest[dfHarvest.DayWithMostBurials.dt.month > 7]\n",
    "# dfHarvest = dfHarvest[dfHarvest.DayWithMostBurials.dt.month <=10]\n",
    "# dfHarvest\n",
    "\n",
    "# # Add some extra crises from 1832 in the same amts\n",
    "# dfHarvestExtra = dfCrises[(dfCrises.DayWithMostBurials.dt.year == 1832) & (dfCrises.Amt.isin(dfHarvest.Amt.unique()))].copy()\n",
    "# # dfHarvestExtra\n",
    "# dfHarvestExtra\n",
    "# # dfHarvest\n"
   ]
  },
  {
   "cell_type": "code",
   "execution_count": 24,
   "metadata": {},
   "outputs": [],
   "source": [
    "# dfHarvest[~dfHarvest.Amt.str.contains('Ribe')]"
   ]
  },
  {
   "cell_type": "code",
   "execution_count": 25,
   "metadata": {},
   "outputs": [],
   "source": [
    "\n",
    "# dfHarvest = dfCrises.copy()\n",
    "# dfHarvest = dfHarvest[dfHarvest.DayWithMostBurials > np.datetime64('1825')]\n",
    "# dfHarvest = dfHarvest[dfHarvest.DayWithMostBurials <= np.datetime64('1833')]\n",
    "\n",
    "# dfHarvest = dfHarvest[dfHarvest.DayWithMostBurials.dt.month > 7]\n",
    "# dfHarvest = dfHarvest[dfHarvest.DayWithMostBurials.dt.month <=10]\n",
    "# dfHarvest\n",
    "\n",
    "# # Add some extra crises from 1832 in the same amts\n",
    "# dfHarvestExtra = dfCrises[(dfCrises.DayWithMostBurials.dt.year == 1832) & (dfCrises.Amt.isin(dfHarvest.Amt.unique()))].copy()\n",
    "# # dfHarvestExtra\n",
    "# # dfHarvest\n",
    "\n",
    "\n",
    "# # Add extra to dfHarvest\n",
    "# dfHarvest = pd.concat([dfHarvest,dfHarvestExtra]).sort_index()\n",
    "\n",
    "# # Sort away Ribe amt\n",
    "# dfHarvest = dfHarvest[~dfHarvest.Amt.str.contains('Ribe')]\n",
    "\n",
    "# print(dfHarvest.Amt.unique())\n",
    "# print(f'Total excess: {dfHarvest.Excess.sum()}')\n",
    "# print(f'Part of that which is from excess in extra crises in 1832: {dfHarvestExtra.Excess.sum()}')\n",
    "# print(f'Indices: {dfHarvest.index.values}')\n",
    "\n",
    "# print(dfHarvest.Cluster.value_counts())\n",
    "# # Update main dataframe\n",
    "# dfCrises.loc[dfHarvest.index,'Group'] = 'Harvest-epidemics'\n",
    "\n",
    "# # dfHarvest"
   ]
  },
  {
   "cell_type": "code",
   "execution_count": 26,
   "metadata": {},
   "outputs": [],
   "source": [
    "# dfHarvest"
   ]
  },
  {
   "cell_type": "markdown",
   "metadata": {},
   "source": [
    "# Child mortality in 1829\n",
    "\n",
    "High mortality among 1-14 in first half of 1829. \n",
    "\n",
    "Cluster C. One of them gets classified as B, but has been determined to be related.\n",
    "\n",
    "A few crises occur at the same time, but all with mortality among the elderly. These end up in clusters E or F, and are omitted from this group"
   ]
  },
  {
   "cell_type": "code",
   "execution_count": 27,
   "metadata": {},
   "outputs": [
    {
     "name": "stdout",
     "output_type": "stream",
     "text": [
      "['Sorø Amt' 'Maribo Amt' 'Holbæk Amt' 'Svendborg Amt' 'Odense Amt'\n",
      " 'Københavns Amt' 'Præstø Amt' 'Frederiksborg Amt']\n",
      "Total excess: 2720\n",
      "Indices: [  8  17  28  42  64  69  76  95 198 273 290 298 356]\n"
     ]
    },
    {
     "data": {
      "text/plain": [
       "C    12\n",
       "B     1\n",
       "Name: Cluster, dtype: int64"
      ]
     },
     "metadata": {},
     "output_type": "display_data"
    }
   ],
   "source": [
    "\n",
    "df1829 = dfCrises.copy()\n",
    "df1829 = df1829[df1829.DayWithMostDeaths >= np.datetime64('1829')]\n",
    "df1829 = df1829[df1829.DayWithMostDeaths <= np.datetime64('1830')]\n",
    "\n",
    "df1829 = df1829[df1829.DayWithMostDeaths.dt.month > 0]\n",
    "df1829 = df1829[df1829.DayWithMostDeaths.dt.month <=7]\n",
    "\n",
    "# Remove any with a lot of elderly mortality\n",
    "df1829 = df1829[df1829.Cluster != 'E']\n",
    "df1829 = df1829[df1829.Cluster != 'F']\n",
    "\n",
    "print(df1829.Amt.unique())\n",
    "print(f'Total excess: {df1829.Excess.sum()}')\n",
    "print(f'Indices: {df1829.index.values}')\n",
    "\n",
    "# Update main dataframe\n",
    "dfCrises.loc[df1829.index,'Group'] = 'Child mortality 1829'\n",
    "# # df1829.iloc[:,:-6]\n",
    "display(df1829['Cluster'].value_counts())\n"
   ]
  },
  {
   "cell_type": "code",
   "execution_count": 28,
   "metadata": {},
   "outputs": [],
   "source": [
    "# df1829"
   ]
  },
  {
   "cell_type": "code",
   "execution_count": 29,
   "metadata": {},
   "outputs": [],
   "source": [
    "# df1829[df1829.Cluster == 'B']"
   ]
  },
  {
   "cell_type": "code",
   "execution_count": 30,
   "metadata": {},
   "outputs": [],
   "source": [
    "# # dfCrises.columns \n",
    "\n",
    "# df1829 = dfCrises.copy()\n",
    "# df1829 = df1829[df1829.DayWithMostBurials >= np.datetime64('1829')]\n",
    "# df1829 = df1829[df1829.DayWithMostBurials <= np.datetime64('1830')]\n",
    "\n",
    "# df1829 = df1829[df1829.DayWithMostBurials.dt.month > 0]\n",
    "# df1829 = df1829[df1829.DayWithMostBurials.dt.month <=7]\n",
    "\n",
    "\n",
    "# if finalResultsFilename == 'AllCrises_Years12_Threshold3_LowerThreshold2_MaxDaysBelow4_minLength4_minCount50_Clustered':\n",
    "#     df1829 = df1829[df1829.Cluster != 'F']\n",
    "#     df1829 = df1829[df1829.Cluster != 'G']\n",
    "# df1829"
   ]
  },
  {
   "cell_type": "code",
   "execution_count": 31,
   "metadata": {},
   "outputs": [],
   "source": [
    "\n",
    "# df1829 = dfCrises.copy()\n",
    "# df1829 = df1829[df1829.DayWithMostBurials >= np.datetime64('1829')]\n",
    "# df1829 = df1829[df1829.DayWithMostBurials <= np.datetime64('1830')]\n",
    "\n",
    "# df1829 = df1829[df1829.DayWithMostBurials.dt.month > 0]\n",
    "# df1829 = df1829[df1829.DayWithMostBurials.dt.month <=7]\n",
    "\n",
    "\n",
    "# if finalResultsFilename == 'AllCrises_Years12_Threshold3_LowerThreshold2_MaxDaysBelow4_minLength4_minCount50_Clustered':\n",
    "#     df1829 = df1829[df1829.Cluster != 'F']\n",
    "#     df1829 = df1829[df1829.Cluster != 'G']\n",
    "\n",
    "# # df1829 = df1829[df1829.Cluster != 'H']\n",
    "# # df1829 = df1829[df1829.Cluster != 'G']\n",
    "\n",
    "# # df1829['Frac_1-14'] = df1829['1-14']/df1829['AgeSplitSum']\n",
    "# # df1829.sort_values(by='FracAll_1-14',ascending=False).iloc[:,-20:]\n",
    "# # df1829.sort_values(by='Pct_1-14',ascending=False)\n",
    "# # df1829.sort_values(by='Cluster2_Prob',ascending=False)\n",
    "\n",
    "\n",
    "# print(df1829.Amt.unique())\n",
    "# print(f'Total excess: {df1829.Excess.sum()}')\n",
    "# print(f'Indices: {df1829.index.values}')\n",
    "\n",
    "# # Update main dataframe\n",
    "# dfCrises.loc[df1829.index,'Group'] = 'Child mortality 1829'\n",
    "# # # df1829.iloc[:,:-6]\n",
    "# display(df1829['Cluster'].value_counts())\n",
    "# print('Mortality not in cluster D: '+str(df1829[df1829.Cluster != 'D'].Excess.sum()))"
   ]
  },
  {
   "cell_type": "markdown",
   "metadata": {},
   "source": [
    "# 1891/1892 Pandemic Flu\n",
    "\n",
    "Everything around new years 1891/1892\n",
    "\n",
    "All are cluster E, except Åbenrå which gets classified as cluster F"
   ]
  },
  {
   "cell_type": "code",
   "execution_count": 32,
   "metadata": {},
   "outputs": [
    {
     "name": "stdout",
     "output_type": "stream",
     "text": [
      "['Bornholms Amt' 'Frederiksborg Amt' 'Haderslev Amt' 'Hjørring Amt'\n",
      " 'Holbæk Amt' 'Københavns Amt' 'Maribo Amt' 'Odense Amt' 'Præstø Amt'\n",
      " 'Randers Amt' 'Ribe Amt' 'Ringkøbing Amt' 'Sorø Amt' 'Staden København'\n",
      " 'Svendborg Amt' 'Thisted Amt' 'Tønder Amt' 'Vejle Amt' 'Viborg Amt'\n",
      " 'Åbenrå Amt' 'Ålborg Amt' 'Århus Amt']\n",
      "Total excess: 6463\n",
      "Indices: [  7   9  12  19  23  29  30  31  33  34  37  41  45  52  54 104 113 126\n",
      " 209 212 223 243 301 330 382]\n",
      "Clusters:\n",
      "F    24\n",
      "E     1\n",
      "Name: Cluster, dtype: int64\n"
     ]
    }
   ],
   "source": [
    "dfFlu1892 = dfCrises.copy()\n",
    "\n",
    "\n",
    "dfFlu1892 = dfFlu1892[dfFlu1892.DayWithMostDeaths >= np.datetime64('1891-11')]\n",
    "dfFlu1892 = dfFlu1892[dfFlu1892.DayWithMostDeaths <= np.datetime64('1892-03')]\n",
    "\n",
    "dfFlu1892  \n",
    "print(np.sort(dfFlu1892.Amt.unique()))\n",
    "\n",
    "russfluAmt = list(np.sort(dfFlu1892.Amt.unique()))\n",
    "print(f'Total excess: {dfFlu1892.Excess.sum()}')\n",
    "print(f'Indices: {dfFlu1892.index.values}')\n",
    "\n",
    "# Update main dataframe\n",
    "dfCrises.loc[dfFlu1892.index,'Group'] = 'Pandemic Flu (1891/1892)'\n",
    "\n",
    "print('Clusters:')\n",
    "print(dfFlu1892.Cluster.value_counts())\n",
    "# dfFlu1892"
   ]
  },
  {
   "cell_type": "code",
   "execution_count": 33,
   "metadata": {},
   "outputs": [],
   "source": [
    "# dfFlu1892 = dfCrises.copy()\n",
    "\n",
    "\n",
    "# dfFlu1892 = dfFlu1892[dfFlu1892.DayWithMostBurials >= np.datetime64('1891-11')]\n",
    "# dfFlu1892 = dfFlu1892[dfFlu1892.DayWithMostBurials <= np.datetime64('1892-03')]\n",
    "\n",
    "# dfFlu1892  \n",
    "# # print(np.sort(dfFlu1892.Amt.unique()))\n"
   ]
  },
  {
   "cell_type": "code",
   "execution_count": 34,
   "metadata": {},
   "outputs": [],
   "source": [
    "# dfFlu1892 = dfCrises.copy()\n",
    "\n",
    "\n",
    "# dfFlu1892 = dfFlu1892[dfFlu1892.DayWithMostBurials >= np.datetime64('1891-11')]\n",
    "# dfFlu1892 = dfFlu1892[dfFlu1892.DayWithMostBurials <= np.datetime64('1892-03')]\n",
    "\n",
    "# dfFlu1892  \n",
    "# print(np.sort(dfFlu1892.Amt.unique()))\n",
    "\n",
    "# russfluAmt = list(np.sort(dfFlu1892.Amt.unique()))\n",
    "# print(f'Total excess: {dfFlu1892.Excess.sum()}')\n",
    "# print(f'Indices: {dfFlu1892.index.values}')\n",
    "\n",
    "# # Update main dataframe\n",
    "# dfCrises.loc[dfFlu1892.index,'Group'] = 'Pandemic Flu (1891/1892)'\n",
    "\n",
    "# print('Clusters:')\n",
    "# print(dfFlu1892.Cluster.value_counts())\n",
    "# # dfFlu1892"
   ]
  },
  {
   "cell_type": "code",
   "execution_count": 35,
   "metadata": {},
   "outputs": [
    {
     "name": "stdout",
     "output_type": "stream",
     "text": [
      "Counties not experiencing flu: \n",
      "['Nordborg Amt' 'Skanderborg Amt' 'Sønderborg Amt']\n",
      "(i.e. counties that either do not exist or arent Danish at the time)\n"
     ]
    }
   ],
   "source": [
    "print('Counties not experiencing flu: ')\n",
    "print(np.setdiff1d(dfCrises.Amt.unique(),dfFlu1892.Amt.unique()))\n",
    "print('(i.e. counties that either do not exist or arent Danish at the time)')"
   ]
  },
  {
   "cell_type": "markdown",
   "metadata": {},
   "source": [
    "# Pandemic flu, spring 1900 (The so-called \"Pseudo-pandemic\")\n"
   ]
  },
  {
   "cell_type": "code",
   "execution_count": 36,
   "metadata": {},
   "outputs": [
    {
     "name": "stdout",
     "output_type": "stream",
     "text": [
      "['Frederiksborg Amt' 'Haderslev Amt' 'Hjørring Amt' 'Holbæk Amt'\n",
      " 'Maribo Amt' 'Odense Amt' 'Præstø Amt' 'Sorø Amt' 'Svendborg Amt'\n",
      " 'Thisted Amt' 'Vejle Amt' 'Ålborg Amt']\n",
      "Total excess: 1874\n",
      "Indices: [ 38  47  48  63  88 100 129 132 219 228 270 287 307 416]\n",
      "Clusters:\n",
      "F    13\n",
      "E     1\n",
      "Name: Cluster, dtype: int64\n"
     ]
    }
   ],
   "source": [
    "dfPseudo = dfCrises.copy()\n",
    "\n",
    "\n",
    "dfPseudo = dfPseudo[dfPseudo.DayWithMostDeaths >= np.datetime64('1900-01')]\n",
    "dfPseudo = dfPseudo[dfPseudo.DayWithMostDeaths <= np.datetime64('1900-08')]\n",
    "\n",
    "# print(np.sort(dfCrises.Amt.unique()))\n",
    "print(np.sort(dfPseudo.Amt.unique()))\n",
    "pseuAmt = list(np.sort(dfPseudo.Amt.unique()))\n",
    "print(f'Total excess: {dfPseudo.Excess.sum()}')\n",
    "print(f'Indices: {dfPseudo.index.values}')\n",
    "\n",
    "# Update main dataframe\n",
    "dfCrises.loc[dfPseudo.index,'Group'] = 'Pandemic flu (1900)'\n",
    "\n",
    "print('Clusters:')\n",
    "print(dfPseudo.Cluster.value_counts())\n",
    "# dfPseudo"
   ]
  },
  {
   "cell_type": "code",
   "execution_count": 37,
   "metadata": {},
   "outputs": [],
   "source": [
    "# dfPseudo = dfCrises.copy()\n",
    "\n",
    "\n",
    "# dfPseudo = dfPseudo[dfPseudo.DayWithMostBurials >= np.datetime64('1900-01')]\n",
    "# dfPseudo = dfPseudo[dfPseudo.DayWithMostBurials <= np.datetime64('1900-08')]\n",
    "# dfPseudo"
   ]
  },
  {
   "cell_type": "code",
   "execution_count": 38,
   "metadata": {},
   "outputs": [],
   "source": [
    "# dfPseudo = dfCrises.copy()\n",
    "\n",
    "\n",
    "# dfPseudo = dfPseudo[dfPseudo.DayWithMostBurials >= np.datetime64('1900-01')]\n",
    "# dfPseudo = dfPseudo[dfPseudo.DayWithMostBurials <= np.datetime64('1900-08')]\n",
    "\n",
    "# # print(np.sort(dfCrises.Amt.unique()))\n",
    "# print(np.sort(dfPseudo.Amt.unique()))\n",
    "# pseuAmt = list(np.sort(dfPseudo.Amt.unique()))\n",
    "# print(f'Total excess: {dfPseudo.Excess.sum()}')\n",
    "# print(f'Indices: {dfPseudo.index.values}')\n",
    "\n",
    "# # Update main dataframe\n",
    "# dfCrises.loc[dfPseudo.index,'Group'] = 'Pandemic flu (1900)'\n",
    "\n",
    "# print('Clusters:')\n",
    "# print(dfPseudo.Cluster.value_counts())\n",
    "# dfPseudo"
   ]
  },
  {
   "cell_type": "code",
   "execution_count": null,
   "metadata": {},
   "outputs": [],
   "source": []
  },
  {
   "cell_type": "code",
   "execution_count": 39,
   "metadata": {},
   "outputs": [
    {
     "name": "stdout",
     "output_type": "stream",
     "text": [
      "F    37\n",
      "E     2\n",
      "Name: Cluster, dtype: int64\n"
     ]
    },
    {
     "data": {
      "text/plain": [
       "8337"
      ]
     },
     "execution_count": 39,
     "metadata": {},
     "output_type": "execute_result"
    }
   ],
   "source": [
    "dfBothFlu = pd.concat([dfFlu1892,dfPseudo])\n",
    "print(dfBothFlu.Cluster.value_counts())\n",
    "dfBothFlu.Excess.sum()"
   ]
  },
  {
   "cell_type": "markdown",
   "metadata": {},
   "source": [
    "# Scarlatina\n",
    "\n",
    "\n",
    "Criteria:\n",
    "\n",
    "Age: Mostly cluster B (Almost all 1-14)\n",
    "\n",
    "Geography: Mid and northern Jutland\n",
    "\n",
    "Time: Winter 1857/1858\n",
    "\n",
    "Comment: High infant mortality is observed in the rest of the country in the fall/winter the following years (in 1858/1859: Odense, Svendborg, Præstø, Maribo, and 1859/1860 in Maribo). \n",
    "\n",
    "Further investigation of historical records may reveal this to also be scarlet fever, but it is omitted from the count for the winter 1857/1858.\n",
    "\n",
    "Something also seems to occur on Bornholm, but is also ignored here.\n",
    "\n",
    "Extra: Three mortality crises are related, but seem to also have a wave of some disease among elderly, so they end up with a strange age-distribution (and not cluster A)\n",
    "<!-- (232,117,180) -->"
   ]
  },
  {
   "cell_type": "code",
   "execution_count": 40,
   "metadata": {},
   "outputs": [],
   "source": [
    "amtJutlandMidNorth = ['Thisted Amt','Randers Amt','Århus Amt','Ålborg Amt','Vejle Amt','Ringkøbing Amt','Viborg Amt','Hjørring Amt','Ribe Amt','Åbenrå Amt','Skanderborg Amt']\n",
    "amtJutlandMidNorth = ['Thisted Amt','Randers Amt','Århus Amt','Ålborg Amt','Ringkøbing Amt','Viborg Amt','Hjørring Amt','Skanderborg Amt']"
   ]
  },
  {
   "cell_type": "code",
   "execution_count": 41,
   "metadata": {},
   "outputs": [],
   "source": [
    "# dfScar = dfCrises.copy()\n",
    "# dfScar = dfScar[dfScar.DayWithMostDeaths >= np.datetime64('1857-06-01')]\n",
    "# dfScar = dfScar[dfScar.DayWithMostDeaths <= np.datetime64('1858-06-01')]\n",
    "\n",
    "# dfScar = dfScar[dfScar.Amt.isin(amtJutlandMidNorth)]\n",
    "\n",
    "# dfScar"
   ]
  },
  {
   "cell_type": "code",
   "execution_count": 42,
   "metadata": {},
   "outputs": [
    {
     "name": "stdout",
     "output_type": "stream",
     "text": [
      "['Thisted Amt' 'Ålborg Amt' 'Viborg Amt' 'Randers Amt' 'Århus Amt'\n",
      " 'Skanderborg Amt']\n",
      "Total excess: 2401\n",
      "Indices: [  5  22  36  85 109 137 152 171 180 242 249 303 313 327 332]\n"
     ]
    },
    {
     "data": {
      "text/plain": [
       "B    10\n",
       "C     5\n",
       "Name: Cluster, dtype: int64"
      ]
     },
     "execution_count": 42,
     "metadata": {},
     "output_type": "execute_result"
    }
   ],
   "source": [
    "dfScar = dfCrises.copy()\n",
    "\n",
    "dfScar = dfScar[dfScar.DayWithMostDeaths >= np.datetime64('1857')]\n",
    "dfScar = dfScar[dfScar.DayWithMostDeaths <= np.datetime64('1859')]\n",
    "\n",
    "dfScar = dfScar[dfScar.Amt.isin(amtJutlandMidNorth)]\n",
    "\n",
    "dfScar = dfScar[dfScar.Cluster != 'E']\n",
    "\n",
    "print(dfScar.Amt.unique())\n",
    "print(f'Total excess: {dfScar.Excess.sum()}')\n",
    "print(f'Indices: {dfScar.index.values}')\n",
    " \n",
    "# Update main dataframe\n",
    "dfCrises.loc[dfScar.index,'Group'] = 'Scarlatina'\n",
    "\n",
    "dfScar.Cluster.value_counts()"
   ]
  },
  {
   "cell_type": "code",
   "execution_count": 43,
   "metadata": {},
   "outputs": [
    {
     "data": {
      "text/plain": [
       "435"
      ]
     },
     "execution_count": 43,
     "metadata": {},
     "output_type": "execute_result"
    }
   ],
   "source": [
    "dfScar[dfScar.Cluster != 'B'].Excess.sum()"
   ]
  },
  {
   "cell_type": "code",
   "execution_count": 44,
   "metadata": {},
   "outputs": [],
   "source": [
    "# dfScar = dfCrises.copy()\n",
    "\n",
    "# dfScar = dfScar[dfScar.DayWithMostDeaths >= np.datetime64('1857')]\n",
    "# dfScar = dfScar[dfScar.DayWithMostDeaths <= np.datetime64('1859')]\n",
    "\n",
    "# dfScar = dfScar[dfScar.Amt.isin(amtJutlandMidNorth)]\n",
    "\n",
    "# print(dfScar.Amt.unique())\n",
    "# print(f'Total excess: {dfScar.Excess.sum()}')\n",
    "# print(f'Indices: {dfScar.index.values}')\n",
    " \n",
    "# # Update main dataframe\n",
    "# dfCrises.loc[dfScar.index,'Group'] = 'Scarlatina'\n",
    "\n",
    "# dfScar.Cluster.value_counts()"
   ]
  },
  {
   "cell_type": "code",
   "execution_count": 45,
   "metadata": {},
   "outputs": [],
   "source": [
    "# dfScar = dfCrises.copy()\n",
    "\n",
    "# dfScar = dfScar[dfScar.DayWithMostBurials >= np.datetime64('1857')]\n",
    "# dfScar = dfScar[dfScar.DayWithMostBurials <= np.datetime64('1859')]\n",
    "\n",
    "# dfScar = dfScar[dfScar.Amt.isin(amtJutlandMidNorth)]\n",
    "\n",
    "# print(dfScar.Amt.unique())\n",
    "# print(f'Total excess: {dfScar.Excess.sum()}')\n",
    "# print(f'Indices: {dfScar.index.values}')\n",
    " \n",
    "# # Update main dataframe\n",
    "# dfCrises.loc[dfScar.index,'Group'] = 'Scarlatina'\n",
    "\n",
    "# dfScar.Cluster.value_counts()"
   ]
  },
  {
   "cell_type": "code",
   "execution_count": 46,
   "metadata": {},
   "outputs": [],
   "source": [
    "# dfScar.Cluster"
   ]
  },
  {
   "cell_type": "code",
   "execution_count": 47,
   "metadata": {},
   "outputs": [],
   "source": [
    "# dfScar['Pct_1-14']"
   ]
  },
  {
   "cell_type": "code",
   "execution_count": 48,
   "metadata": {},
   "outputs": [
    {
     "name": "stdout",
     "output_type": "stream",
     "text": [
      "30249 burials grouped\n",
      "29683 burials still ungrouped\n",
      "Hence, 50% of burials has been classified\n"
     ]
    }
   ],
   "source": [
    "# dfScar\n",
    "\n",
    "numFound    = dfCrises[dfCrises.Group != 'None']['Excess'].sum()\n",
    "numNotFound = dfCrises[dfCrises.Group == 'None']['Excess'].sum()\n",
    "print(str(numFound) + ' burials grouped')\n",
    "print(str(numNotFound) + ' burials still ungrouped')\n",
    "print(f'Hence, {100 * numFound/(numFound+numNotFound):2.0f}% of burials has been classified')"
   ]
  },
  {
   "cell_type": "code",
   "execution_count": 49,
   "metadata": {},
   "outputs": [
    {
     "data": {
      "text/plain": [
       "59932"
      ]
     },
     "execution_count": 49,
     "metadata": {},
     "output_type": "execute_result"
    }
   ],
   "source": [
    "numFound + numNotFound"
   ]
  },
  {
   "cell_type": "markdown",
   "metadata": {},
   "source": [
    "# War\n",
    "\n",
    "Crises that coincide with wars.\n",
    "\n",
    "Manual checks of these suggest that many were probably all war-related, as also suggested by the gender ratio, however no actual grouping was done."
   ]
  },
  {
   "cell_type": "code",
   "execution_count": 50,
   "metadata": {},
   "outputs": [],
   "source": [
    "# dfWar = dfCrises.copy()\n",
    "\n",
    "# dfWar = dfWar[(dfWar.DayWithMostDeaths.dt.year == 1864) | (dfWar.DayWithMostDeaths.dt.year == 1849)]\n",
    "# # dfWar = dfWar[dfWar.DayWithMostBurials <= np.datetime64('1859')]\n",
    "\n",
    "# dfWar.sort_values(by='GenderRatio',ascending=False)\n",
    "# # dfWar\n",
    "\n",
    "\n",
    "# # indexWar = [195,207,20,63,316,12,123,37]\n",
    "# # dfWar = dfWar.loc[indexWar]\n",
    "\n",
    "\n",
    "# print(np.sort(dfWar.Amt.unique()))\n",
    "# print(f'Total excess: {dfWar.Excess.sum()}')\n",
    "# print(f'Indices: {dfWar.index.values}')\n",
    "\n",
    "# # Update main dataframe\n",
    "# dfCrises.loc[dfWar.index,'Group'] = 'Potentially war-related'\n",
    "\n",
    "# # dfWar\n",
    "# dfWar.sort_values(by='GenderRatio',ascending=False)"
   ]
  },
  {
   "cell_type": "code",
   "execution_count": 51,
   "metadata": {},
   "outputs": [
    {
     "name": "stdout",
     "output_type": "stream",
     "text": [
      "['Haderslev Amt' 'Maribo Amt' 'Nordborg Amt' 'Odense Amt' 'Præstø Amt'\n",
      " 'Skanderborg Amt' 'Staden København' 'Svendborg Amt' 'Sønderborg Amt'\n",
      " 'Vejle Amt' 'Åbenrå Amt' 'Ålborg Amt']\n",
      "Total excess: 3414\n",
      "Indices: [ 13  14  44  55  57  66  86  89 119 130 143 170 182 224 251 254 261 264\n",
      " 289 322 347 350 380 403 405]\n"
     ]
    }
   ],
   "source": [
    "dfWar = dfCrises.copy()\n",
    "\n",
    "dfWar = dfWar[(dfWar.DayWithMostDeaths.dt.year == 1864) | (dfWar.DayWithMostDeaths.dt.year == 1849)]\n",
    "# dfWar = dfWar[dfWar.DayWithMostBurials <= np.datetime64('1859')]\n",
    "\n",
    "dfWar.sort_values(by='GenderRatio',ascending=False)\n",
    "# dfWar\n",
    "\n",
    "\n",
    "# indexWar = [195,207,20,63,316,12,123,37]\n",
    "# dfWar = dfWar.loc[indexWar]\n",
    "\n",
    "\n",
    "print(np.sort(dfWar.Amt.unique()))\n",
    "print(f'Total excess: {dfWar.Excess.sum()}')\n",
    "print(f'Indices: {dfWar.index.values}')\n",
    "\n",
    "# Update main dataframe\n",
    "dfCrises.loc[dfWar.index,'Group'] = 'Possibly war-related'\n",
    "\n",
    "# dfWar\n",
    "# dfWar.sort_values(by='GenderRatio',ascending=False)"
   ]
  },
  {
   "cell_type": "code",
   "execution_count": 52,
   "metadata": {},
   "outputs": [],
   "source": [
    "# dfWar = dfCrises.copy()\n",
    "\n",
    "# dfWar = dfWar[(dfWar.DayWithMostBurials.dt.year == 1864) | (dfWar.DayWithMostBurials.dt.year == 1849)]\n",
    "# # dfWar = dfWar[dfWar.DayWithMostBurials <= np.datetime64('1859')]\n",
    "\n",
    "# dfWar.sort_values(by='GenderRatio',ascending=False)\n",
    "# # dfWar\n",
    "\n",
    "\n",
    "# # indexWar = [195,207,20,63,316,12,123,37]\n",
    "# # dfWar = dfWar.loc[indexWar]\n",
    "\n",
    "\n",
    "# print(np.sort(dfWar.Amt.unique()))\n",
    "# print(f'Total excess: {dfWar.Excess.sum()}')\n",
    "# print(f'Indices: {dfWar.index.values}')\n",
    "\n",
    "# # Update main dataframe\n",
    "# dfCrises.loc[dfWar.index,'Group'] = 'Potentially war-related'\n",
    "\n",
    "# # dfWar\n",
    "# dfWar.sort_values(by='GenderRatio',ascending=False)"
   ]
  },
  {
   "cell_type": "code",
   "execution_count": 53,
   "metadata": {},
   "outputs": [
    {
     "name": "stdout",
     "output_type": "stream",
     "text": [
      "33663 burials grouped\n",
      "26269 burials still ungrouped\n",
      "Hence, 56% of burials has been classified\n"
     ]
    }
   ],
   "source": [
    "\n",
    "numFound    = dfCrises[dfCrises.Group != 'None']['Excess'].sum()\n",
    "numNotFound = dfCrises[dfCrises.Group == 'None']['Excess'].sum()\n",
    "print(str(numFound) + ' burials grouped')\n",
    "print(str(numNotFound) + ' burials still ungrouped')\n",
    "print(f'Hence, {100 * numFound/(numFound+numNotFound):2.0f}% of burials has been classified')"
   ]
  },
  {
   "cell_type": "code",
   "execution_count": 54,
   "metadata": {},
   "outputs": [
    {
     "data": {
      "text/plain": [
       "59932"
      ]
     },
     "execution_count": 54,
     "metadata": {},
     "output_type": "execute_result"
    }
   ],
   "source": [
    "numFound + numNotFound"
   ]
  },
  {
   "cell_type": "code",
   "execution_count": 55,
   "metadata": {},
   "outputs": [],
   "source": [
    "# dfCrises[dfCrises.Group == 'None']"
   ]
  },
  {
   "cell_type": "code",
   "execution_count": 56,
   "metadata": {},
   "outputs": [],
   "source": [
    "# Save the results\n",
    "curFileName = finalResultsFilename + '_Grouped'\n",
    "dfCrises.to_csv(pathData+ curFileName + '.csv',index=False)"
   ]
  },
  {
   "cell_type": "markdown",
   "metadata": {},
   "source": [
    "# Save main table\n",
    "Reorder results and save to top directory"
   ]
  },
  {
   "cell_type": "code",
   "execution_count": 57,
   "metadata": {},
   "outputs": [],
   "source": [
    "# asdfasdfasdf # To stop execution when running all, to avoid overwriting results\n",
    "# dfCrisesBackup = dfCrises.copy()\n",
    "# dfCrises = dfCrisesBackup.copy()"
   ]
  },
  {
   "cell_type": "code",
   "execution_count": 58,
   "metadata": {},
   "outputs": [],
   "source": [
    "saveToMainFile = True\n",
    "saveToMainFile = False"
   ]
  },
  {
   "cell_type": "code",
   "execution_count": 59,
   "metadata": {},
   "outputs": [],
   "source": [
    "dfCrisesMainFile = dfCrises.copy()"
   ]
  },
  {
   "cell_type": "code",
   "execution_count": 61,
   "metadata": {},
   "outputs": [],
   "source": [
    "ageGroupNames = ['Infants_stillborn','1-14','15-39','40-59','60+']\n",
    "ageExc = ['Exc_'+x for x in ageGroupNames]\n",
    "agePct = ['Pct_'+x for x in ageGroupNames]\n",
    "ageDataSum = ['DataSum_'+x for x in ageGroupNames]\n",
    "ageBaseline = ['Baseline_'+x for x in ageGroupNames]\n",
    "ageFracAll = ['FracAll_'+x for x in ageGroupNames]\n",
    "\n",
    "\n",
    "clusterNames = ['ClusterA_Prob','ClusterB_Prob','ClusterC_Prob','ClusterD_Prob','ClusterE_Prob','ClusterF_Prob']\n"
   ]
  },
  {
   "cell_type": "code",
   "execution_count": 62,
   "metadata": {},
   "outputs": [],
   "source": [
    "dfCrisesMainFile.replace([np.inf, -np.inf], np.nan, inplace=True) # Replace infinite values with nan\n",
    "\n",
    "# Round some of the columns to make it easier to work with for others\n",
    "dfCrisesMainFile['ExcessPct'] = dfCrisesMainFile['ExcessPct'].astype(int) # Is already an integer, so no need to round\n",
    "dfCrisesMainFile['PopulationEstimate'] = dfCrisesMainFile['PopulationEstimate'].astype('Int64') # Is already an integer, so no need to round. Has to be Int64 as some are NaN \n",
    "dfCrisesMainFile['GenderRatio'] = dfCrisesMainFile['GenderRatio'].round(4)\n",
    "\n",
    "dfCrisesMainFile[ageExc] = dfCrisesMainFile[ageExc].round(2)\n",
    "dfCrisesMainFile[ageBaseline] = dfCrisesMainFile[ageBaseline].round(2)\n",
    "dfCrisesMainFile[ageFracAll] = dfCrisesMainFile[ageFracAll].round(4)\n",
    "dfCrisesMainFile[agePct] = dfCrisesMainFile[agePct].round().astype('Int64')\n",
    "dfCrisesMainFile[ageDataSum] = dfCrisesMainFile[ageDataSum].round().astype('Int64')\n",
    "\n",
    "dfCrisesMainFile[clusterNames] = dfCrisesMainFile[clusterNames].round(4)\n",
    "\n",
    "dfCrisesMainFile['AgeSplitSumExc'] = dfCrisesMainFile['AgeSplitSumExc'].round(2)"
   ]
  },
  {
   "cell_type": "code",
   "execution_count": 63,
   "metadata": {},
   "outputs": [],
   "source": [
    "# Reorder manually\n",
    "# print(dfCrisesMainFile.columns)\n",
    "newOrder = [\n",
    "    'Amt',\n",
    "    'Group',\n",
    "    'Start',\n",
    "    'End',\n",
    "    'DayWithMostDeaths',\n",
    "    'NumberOfDays',\n",
    "    'Excess',\n",
    "    'ExcessPct',\n",
    "    'GenderRatio',\n",
    "    'Cluster',\n",
    "    'Season',\n",
    "    'TimeOfYear',\n",
    "    'PopulationEstimate',\n",
    "    'Exc_Infants_stillborn',\n",
    "    'Exc_1-14',\n",
    "    'Exc_15-39',\n",
    "    'Exc_40-59',\n",
    "    'Exc_60+',\n",
    "    'Pct_Infants_stillborn',\n",
    "    'Pct_1-14',\n",
    "    'Pct_15-39',\n",
    "    'Pct_40-59',\n",
    "    'Pct_60+',\n",
    "    'DataSum_Infants_stillborn',\n",
    "    'DataSum_1-14',\n",
    "    'DataSum_15-39',\n",
    "    'DataSum_40-59',\n",
    "    'DataSum_60+',\n",
    "    'Baseline_Infants_stillborn',\n",
    "    'Baseline_1-14',\n",
    "    'Baseline_15-39',\n",
    "    'Baseline_40-59',\n",
    "    'Baseline_60+',\n",
    "    'FracAll_Infants_stillborn',\n",
    "    'FracAll_1-14',\n",
    "    'FracAll_15-39',\n",
    "    'FracAll_40-59',\n",
    "    'FracAll_60+',\n",
    "    'AgeSplitSumExc',\n",
    "    'ClusterA_Prob',\n",
    "    'ClusterB_Prob',\n",
    "    'ClusterC_Prob',\n",
    "    'ClusterD_Prob',\n",
    "    'ClusterE_Prob',\n",
    "    'ClusterF_Prob',\n",
    "]\n"
   ]
  },
  {
   "cell_type": "code",
   "execution_count": 64,
   "metadata": {},
   "outputs": [],
   "source": [
    "# Reorder\n",
    "dfCrisesMainFile = dfCrisesMainFile[newOrder]"
   ]
  },
  {
   "cell_type": "code",
   "execution_count": 65,
   "metadata": {},
   "outputs": [],
   "source": [
    "# Rename columns to more readable names\n",
    "ageExcNew = ['Excess_'+x for x in ageGroupNames]\n",
    "agePctNew = ['PercentExcess_'+x for x in ageGroupNames]\n",
    "ageFracAllNew = ['FractionOfAllExcess_'+x for x in ageGroupNames]\n",
    "clusterProbsFull = [x+'ability' for x in clusterNames]\n",
    "\n",
    "dfCrisesMainFile = dfCrisesMainFile.rename(columns=dict(zip(ageExc,ageExcNew)))\n",
    "dfCrisesMainFile = dfCrisesMainFile.rename(columns=dict(zip(agePct,agePctNew)))\n",
    "dfCrisesMainFile = dfCrisesMainFile.rename(columns=dict(zip(ageFracAll,ageFracAllNew)))\n",
    "dfCrisesMainFile = dfCrisesMainFile.rename(columns=dict(zip(clusterNames,clusterProbsFull)))\n",
    "dfCrisesMainFile = dfCrisesMainFile.rename(columns={'AgeSplitSumExc':'SumOfAgeSpecificExcess'})"
   ]
  },
  {
   "cell_type": "code",
   "execution_count": 66,
   "metadata": {},
   "outputs": [],
   "source": [
    "dfCrisesMainFile['Amt'] = dfCrisesMainFile.Amt.str.replace('Amt','County')\n",
    "dfCrisesMainFile['Amt'] = dfCrisesMainFile.Amt.str.replace('Staden København','Copenhagen City')\n",
    "dfCrisesMainFile['Amt'] = dfCrisesMainFile.Amt.str.replace('Københavns','Copenhagen')\n"
   ]
  },
  {
   "cell_type": "code",
   "execution_count": 68,
   "metadata": {},
   "outputs": [],
   "source": [
    "# dfCrisesMainFile.head()\n",
    "if saveToMainFile:\n",
    "    dfCrisesMainFile.to_csv('../SupplementaryTable_AllCrises.csv',index=False)\n",
    "\n",
    "    # Also save file as excel (with dates as strings to avoid excel-problems)\n",
    "    dfCrisesMainFileExcel = dfCrisesMainFile.copy()\n",
    "    dfCrisesMainFileExcel['Start'] = dfCrisesMainFileExcel['Start'].astype(str)\n",
    "    dfCrisesMainFileExcel['End'] = dfCrisesMainFileExcel['End'].astype(str)\n",
    "    dfCrisesMainFileExcel['DayWithMostDeaths'] = dfCrisesMainFileExcel['DayWithMostDeaths'].astype(str)\n",
    "\n",
    "    dfCrisesMainFileExcel.to_excel('../SupplementaryTable_AllCrises.xlsx',index=False)"
   ]
  },
  {
   "cell_type": "markdown",
   "metadata": {},
   "source": [
    "# Various checks for use in article text"
   ]
  },
  {
   "cell_type": "code",
   "execution_count": 57,
   "metadata": {},
   "outputs": [
    {
     "data": {
      "text/plain": [
       "'AllCrises_NonSmoothed_Years12_Threshold3_LowerThreshold2_MaxDaysBelow7_minLength0_minCount50_Clustered'"
      ]
     },
     "execution_count": 57,
     "metadata": {},
     "output_type": "execute_result"
    }
   ],
   "source": [
    "dfCrises.groupby('Group').sum()['Excess']\n",
    "finalResultsFilename"
   ]
  },
  {
   "cell_type": "code",
   "execution_count": 58,
   "metadata": {},
   "outputs": [
    {
     "data": {
      "text/html": [
       "<div>\n",
       "<style scoped>\n",
       "    .dataframe tbody tr th:only-of-type {\n",
       "        vertical-align: middle;\n",
       "    }\n",
       "\n",
       "    .dataframe tbody tr th {\n",
       "        vertical-align: top;\n",
       "    }\n",
       "\n",
       "    .dataframe thead th {\n",
       "        text-align: right;\n",
       "    }\n",
       "</style>\n",
       "<table border=\"1\" class=\"dataframe\">\n",
       "  <thead>\n",
       "    <tr style=\"text-align: right;\">\n",
       "      <th></th>\n",
       "      <th>Amt</th>\n",
       "      <th>Start</th>\n",
       "      <th>End</th>\n",
       "      <th>NumberOfDays</th>\n",
       "      <th>DayWithMostDeaths</th>\n",
       "      <th>Excess</th>\n",
       "      <th>ExcessPct</th>\n",
       "      <th>GenderRatio</th>\n",
       "      <th>TimeOfYear</th>\n",
       "      <th>Season</th>\n",
       "      <th>PopulationEstimate</th>\n",
       "      <th>Exc_Infants_stillborn</th>\n",
       "      <th>Exc_1-14</th>\n",
       "      <th>Exc_15-39</th>\n",
       "      <th>Exc_40-59</th>\n",
       "      <th>Exc_60+</th>\n",
       "      <th>Pct_Infants_stillborn</th>\n",
       "      <th>Pct_1-14</th>\n",
       "      <th>Pct_15-39</th>\n",
       "      <th>Pct_40-59</th>\n",
       "      <th>Pct_60+</th>\n",
       "      <th>DataSum_Infants_stillborn</th>\n",
       "      <th>DataSum_1-14</th>\n",
       "      <th>DataSum_15-39</th>\n",
       "      <th>DataSum_40-59</th>\n",
       "      <th>DataSum_60+</th>\n",
       "      <th>Baseline_Infants_stillborn</th>\n",
       "      <th>Baseline_1-14</th>\n",
       "      <th>Baseline_15-39</th>\n",
       "      <th>Baseline_40-59</th>\n",
       "      <th>Baseline_60+</th>\n",
       "      <th>FracAll_Infants_stillborn</th>\n",
       "      <th>FracAll_1-14</th>\n",
       "      <th>FracAll_15-39</th>\n",
       "      <th>FracAll_40-59</th>\n",
       "      <th>FracAll_60+</th>\n",
       "      <th>AgeSplitSumExc</th>\n",
       "      <th>Cluster</th>\n",
       "      <th>ClusterA_Prob</th>\n",
       "      <th>ClusterB_Prob</th>\n",
       "      <th>ClusterC_Prob</th>\n",
       "      <th>ClusterD_Prob</th>\n",
       "      <th>ClusterE_Prob</th>\n",
       "      <th>ClusterF_Prob</th>\n",
       "      <th>Group</th>\n",
       "    </tr>\n",
       "  </thead>\n",
       "  <tbody>\n",
       "    <tr>\n",
       "      <th>305</th>\n",
       "      <td>Maribo Amt</td>\n",
       "      <td>1872-11-13</td>\n",
       "      <td>1872-11-14</td>\n",
       "      <td>1</td>\n",
       "      <td>1872-11-13</td>\n",
       "      <td>60</td>\n",
       "      <td>700.0</td>\n",
       "      <td>0.5</td>\n",
       "      <td>Q4</td>\n",
       "      <td>Fall</td>\n",
       "      <td>92469.0</td>\n",
       "      <td>1.424242</td>\n",
       "      <td>21.492095</td>\n",
       "      <td>17.227273</td>\n",
       "      <td>12.938735</td>\n",
       "      <td>7.661232</td>\n",
       "      <td>90.0</td>\n",
       "      <td>1425.0</td>\n",
       "      <td>2229.0</td>\n",
       "      <td>1219.0</td>\n",
       "      <td>328.0</td>\n",
       "      <td>3.0</td>\n",
       "      <td>23.0</td>\n",
       "      <td>18.0</td>\n",
       "      <td>14.0</td>\n",
       "      <td>10.0</td>\n",
       "      <td>1.575758</td>\n",
       "      <td>1.507905</td>\n",
       "      <td>0.772727</td>\n",
       "      <td>1.061265</td>\n",
       "      <td>2.338768</td>\n",
       "      <td>0.023447</td>\n",
       "      <td>0.353817</td>\n",
       "      <td>0.283606</td>\n",
       "      <td>0.213006</td>\n",
       "      <td>0.126124</td>\n",
       "      <td>60.743577</td>\n",
       "      <td>D</td>\n",
       "      <td>0.0</td>\n",
       "      <td>0.1466</td>\n",
       "      <td>0.0</td>\n",
       "      <td>0.0</td>\n",
       "      <td>0.8407</td>\n",
       "      <td>0.0127</td>\n",
       "      <td>None</td>\n",
       "    </tr>\n",
       "  </tbody>\n",
       "</table>\n",
       "</div>"
      ],
      "text/plain": [
       "            Amt      Start        End  NumberOfDays DayWithMostDeaths  Excess  \\\n",
       "305  Maribo Amt 1872-11-13 1872-11-14             1        1872-11-13      60   \n",
       "\n",
       "     ExcessPct  GenderRatio TimeOfYear Season  PopulationEstimate  \\\n",
       "305      700.0          0.5         Q4   Fall             92469.0   \n",
       "\n",
       "     Exc_Infants_stillborn   Exc_1-14  Exc_15-39  Exc_40-59   Exc_60+  \\\n",
       "305               1.424242  21.492095  17.227273  12.938735  7.661232   \n",
       "\n",
       "     Pct_Infants_stillborn  Pct_1-14  Pct_15-39  Pct_40-59  Pct_60+  \\\n",
       "305                   90.0    1425.0     2229.0     1219.0    328.0   \n",
       "\n",
       "     DataSum_Infants_stillborn  DataSum_1-14  DataSum_15-39  DataSum_40-59  \\\n",
       "305                        3.0          23.0           18.0           14.0   \n",
       "\n",
       "     DataSum_60+  Baseline_Infants_stillborn  Baseline_1-14  Baseline_15-39  \\\n",
       "305         10.0                    1.575758       1.507905        0.772727   \n",
       "\n",
       "     Baseline_40-59  Baseline_60+  FracAll_Infants_stillborn  FracAll_1-14  \\\n",
       "305        1.061265      2.338768                   0.023447      0.353817   \n",
       "\n",
       "     FracAll_15-39  FracAll_40-59  FracAll_60+  AgeSplitSumExc Cluster  \\\n",
       "305       0.283606       0.213006     0.126124       60.743577       D   \n",
       "\n",
       "     ClusterA_Prob  ClusterB_Prob  ClusterC_Prob  ClusterD_Prob  \\\n",
       "305            0.0         0.1466            0.0            0.0   \n",
       "\n",
       "     ClusterE_Prob  ClusterF_Prob Group  \n",
       "305         0.8407         0.0127  None  "
      ]
     },
     "execution_count": 58,
     "metadata": {},
     "output_type": "execute_result"
    }
   ],
   "source": [
    "# dfCrises[dfCrises.DayWithMostBurials.dt.year == 1872]\n",
    "dfCrises[dfCrises.DayWithMostDeaths.dt.year == 1872]"
   ]
  },
  {
   "cell_type": "code",
   "execution_count": 59,
   "metadata": {},
   "outputs": [
    {
     "data": {
      "text/html": [
       "<div>\n",
       "<style scoped>\n",
       "    .dataframe tbody tr th:only-of-type {\n",
       "        vertical-align: middle;\n",
       "    }\n",
       "\n",
       "    .dataframe tbody tr th {\n",
       "        vertical-align: top;\n",
       "    }\n",
       "\n",
       "    .dataframe thead th {\n",
       "        text-align: right;\n",
       "    }\n",
       "</style>\n",
       "<table border=\"1\" class=\"dataframe\">\n",
       "  <thead>\n",
       "    <tr style=\"text-align: right;\">\n",
       "      <th></th>\n",
       "      <th>Amt</th>\n",
       "      <th>Start</th>\n",
       "      <th>End</th>\n",
       "      <th>NumberOfDays</th>\n",
       "      <th>DayWithMostDeaths</th>\n",
       "      <th>Excess</th>\n",
       "      <th>ExcessPct</th>\n",
       "      <th>GenderRatio</th>\n",
       "      <th>TimeOfYear</th>\n",
       "      <th>Season</th>\n",
       "      <th>PopulationEstimate</th>\n",
       "      <th>Exc_Infants_stillborn</th>\n",
       "      <th>Exc_1-14</th>\n",
       "      <th>Exc_15-39</th>\n",
       "      <th>Exc_40-59</th>\n",
       "      <th>Exc_60+</th>\n",
       "      <th>Pct_Infants_stillborn</th>\n",
       "      <th>Pct_1-14</th>\n",
       "      <th>Pct_15-39</th>\n",
       "      <th>Pct_40-59</th>\n",
       "      <th>Pct_60+</th>\n",
       "      <th>DataSum_Infants_stillborn</th>\n",
       "      <th>DataSum_1-14</th>\n",
       "      <th>DataSum_15-39</th>\n",
       "      <th>DataSum_40-59</th>\n",
       "      <th>DataSum_60+</th>\n",
       "      <th>Baseline_Infants_stillborn</th>\n",
       "      <th>Baseline_1-14</th>\n",
       "      <th>Baseline_15-39</th>\n",
       "      <th>Baseline_40-59</th>\n",
       "      <th>Baseline_60+</th>\n",
       "      <th>FracAll_Infants_stillborn</th>\n",
       "      <th>FracAll_1-14</th>\n",
       "      <th>FracAll_15-39</th>\n",
       "      <th>FracAll_40-59</th>\n",
       "      <th>FracAll_60+</th>\n",
       "      <th>AgeSplitSumExc</th>\n",
       "      <th>Cluster</th>\n",
       "      <th>ClusterA_Prob</th>\n",
       "      <th>ClusterB_Prob</th>\n",
       "      <th>ClusterC_Prob</th>\n",
       "      <th>ClusterD_Prob</th>\n",
       "      <th>ClusterE_Prob</th>\n",
       "      <th>ClusterF_Prob</th>\n",
       "      <th>Group</th>\n",
       "    </tr>\n",
       "  </thead>\n",
       "  <tbody>\n",
       "    <tr>\n",
       "      <th>239</th>\n",
       "      <td>Københavns Amt</td>\n",
       "      <td>1874-05-02</td>\n",
       "      <td>1874-05-18</td>\n",
       "      <td>16</td>\n",
       "      <td>1874-05-02</td>\n",
       "      <td>69</td>\n",
       "      <td>55.0</td>\n",
       "      <td>0.507692</td>\n",
       "      <td>Q2</td>\n",
       "      <td>Spring</td>\n",
       "      <td>111181.0</td>\n",
       "      <td>16.023880</td>\n",
       "      <td>15.515481</td>\n",
       "      <td>17.108696</td>\n",
       "      <td>13.653656</td>\n",
       "      <td>12.942029</td>\n",
       "      <td>64.0</td>\n",
       "      <td>69.0</td>\n",
       "      <td>133.0</td>\n",
       "      <td>71.0</td>\n",
       "      <td>36.0</td>\n",
       "      <td>41.0</td>\n",
       "      <td>38.0</td>\n",
       "      <td>30.0</td>\n",
       "      <td>33.0</td>\n",
       "      <td>49.0</td>\n",
       "      <td>24.976120</td>\n",
       "      <td>22.484519</td>\n",
       "      <td>12.891304</td>\n",
       "      <td>19.346344</td>\n",
       "      <td>36.057971</td>\n",
       "      <td>0.212960</td>\n",
       "      <td>0.206203</td>\n",
       "      <td>0.227377</td>\n",
       "      <td>0.181459</td>\n",
       "      <td>0.172001</td>\n",
       "      <td>75.243742</td>\n",
       "      <td>C</td>\n",
       "      <td>0.0000</td>\n",
       "      <td>0.8456</td>\n",
       "      <td>0.0</td>\n",
       "      <td>0.0</td>\n",
       "      <td>0.1063</td>\n",
       "      <td>0.0481</td>\n",
       "      <td>None</td>\n",
       "    </tr>\n",
       "    <tr>\n",
       "      <th>267</th>\n",
       "      <td>Københavns Amt</td>\n",
       "      <td>1874-07-26</td>\n",
       "      <td>1874-08-12</td>\n",
       "      <td>17</td>\n",
       "      <td>1874-08-10</td>\n",
       "      <td>65</td>\n",
       "      <td>57.0</td>\n",
       "      <td>0.525140</td>\n",
       "      <td>Q3</td>\n",
       "      <td>Summer</td>\n",
       "      <td>111659.0</td>\n",
       "      <td>47.817029</td>\n",
       "      <td>7.847826</td>\n",
       "      <td>3.956192</td>\n",
       "      <td>5.173395</td>\n",
       "      <td>2.025362</td>\n",
       "      <td>132.0</td>\n",
       "      <td>49.0</td>\n",
       "      <td>30.0</td>\n",
       "      <td>37.0</td>\n",
       "      <td>8.0</td>\n",
       "      <td>84.0</td>\n",
       "      <td>24.0</td>\n",
       "      <td>17.0</td>\n",
       "      <td>19.0</td>\n",
       "      <td>27.0</td>\n",
       "      <td>36.182971</td>\n",
       "      <td>16.152174</td>\n",
       "      <td>13.043808</td>\n",
       "      <td>13.826605</td>\n",
       "      <td>24.974638</td>\n",
       "      <td>0.715612</td>\n",
       "      <td>0.117448</td>\n",
       "      <td>0.059207</td>\n",
       "      <td>0.077423</td>\n",
       "      <td>0.030311</td>\n",
       "      <td>66.819805</td>\n",
       "      <td>A</td>\n",
       "      <td>0.0000</td>\n",
       "      <td>0.0000</td>\n",
       "      <td>1.0</td>\n",
       "      <td>0.0</td>\n",
       "      <td>0.0000</td>\n",
       "      <td>0.0000</td>\n",
       "      <td>None</td>\n",
       "    </tr>\n",
       "    <tr>\n",
       "      <th>413</th>\n",
       "      <td>Århus Amt</td>\n",
       "      <td>1874-06-12</td>\n",
       "      <td>1874-06-30</td>\n",
       "      <td>18</td>\n",
       "      <td>1874-06-15</td>\n",
       "      <td>50</td>\n",
       "      <td>37.0</td>\n",
       "      <td>0.526882</td>\n",
       "      <td>Q2</td>\n",
       "      <td>Summer</td>\n",
       "      <td>132028.0</td>\n",
       "      <td>2.167984</td>\n",
       "      <td>21.459721</td>\n",
       "      <td>13.242095</td>\n",
       "      <td>7.739977</td>\n",
       "      <td>9.829710</td>\n",
       "      <td>12.0</td>\n",
       "      <td>78.0</td>\n",
       "      <td>64.0</td>\n",
       "      <td>48.0</td>\n",
       "      <td>32.0</td>\n",
       "      <td>21.0</td>\n",
       "      <td>49.0</td>\n",
       "      <td>34.0</td>\n",
       "      <td>24.0</td>\n",
       "      <td>41.0</td>\n",
       "      <td>18.832016</td>\n",
       "      <td>27.540279</td>\n",
       "      <td>20.757905</td>\n",
       "      <td>16.260023</td>\n",
       "      <td>31.170290</td>\n",
       "      <td>0.039824</td>\n",
       "      <td>0.394194</td>\n",
       "      <td>0.243244</td>\n",
       "      <td>0.142176</td>\n",
       "      <td>0.180562</td>\n",
       "      <td>54.439488</td>\n",
       "      <td>C</td>\n",
       "      <td>0.0003</td>\n",
       "      <td>0.9984</td>\n",
       "      <td>0.0</td>\n",
       "      <td>0.0</td>\n",
       "      <td>0.0005</td>\n",
       "      <td>0.0008</td>\n",
       "      <td>None</td>\n",
       "    </tr>\n",
       "  </tbody>\n",
       "</table>\n",
       "</div>"
      ],
      "text/plain": [
       "                Amt      Start        End  NumberOfDays DayWithMostDeaths  \\\n",
       "239  Københavns Amt 1874-05-02 1874-05-18            16        1874-05-02   \n",
       "267  Københavns Amt 1874-07-26 1874-08-12            17        1874-08-10   \n",
       "413       Århus Amt 1874-06-12 1874-06-30            18        1874-06-15   \n",
       "\n",
       "     Excess  ExcessPct  GenderRatio TimeOfYear  Season  PopulationEstimate  \\\n",
       "239      69       55.0     0.507692         Q2  Spring            111181.0   \n",
       "267      65       57.0     0.525140         Q3  Summer            111659.0   \n",
       "413      50       37.0     0.526882         Q2  Summer            132028.0   \n",
       "\n",
       "     Exc_Infants_stillborn   Exc_1-14  Exc_15-39  Exc_40-59    Exc_60+  \\\n",
       "239              16.023880  15.515481  17.108696  13.653656  12.942029   \n",
       "267              47.817029   7.847826   3.956192   5.173395   2.025362   \n",
       "413               2.167984  21.459721  13.242095   7.739977   9.829710   \n",
       "\n",
       "     Pct_Infants_stillborn  Pct_1-14  Pct_15-39  Pct_40-59  Pct_60+  \\\n",
       "239                   64.0      69.0      133.0       71.0     36.0   \n",
       "267                  132.0      49.0       30.0       37.0      8.0   \n",
       "413                   12.0      78.0       64.0       48.0     32.0   \n",
       "\n",
       "     DataSum_Infants_stillborn  DataSum_1-14  DataSum_15-39  DataSum_40-59  \\\n",
       "239                       41.0          38.0           30.0           33.0   \n",
       "267                       84.0          24.0           17.0           19.0   \n",
       "413                       21.0          49.0           34.0           24.0   \n",
       "\n",
       "     DataSum_60+  Baseline_Infants_stillborn  Baseline_1-14  Baseline_15-39  \\\n",
       "239         49.0                   24.976120      22.484519       12.891304   \n",
       "267         27.0                   36.182971      16.152174       13.043808   \n",
       "413         41.0                   18.832016      27.540279       20.757905   \n",
       "\n",
       "     Baseline_40-59  Baseline_60+  FracAll_Infants_stillborn  FracAll_1-14  \\\n",
       "239       19.346344     36.057971                   0.212960      0.206203   \n",
       "267       13.826605     24.974638                   0.715612      0.117448   \n",
       "413       16.260023     31.170290                   0.039824      0.394194   \n",
       "\n",
       "     FracAll_15-39  FracAll_40-59  FracAll_60+  AgeSplitSumExc Cluster  \\\n",
       "239       0.227377       0.181459     0.172001       75.243742       C   \n",
       "267       0.059207       0.077423     0.030311       66.819805       A   \n",
       "413       0.243244       0.142176     0.180562       54.439488       C   \n",
       "\n",
       "     ClusterA_Prob  ClusterB_Prob  ClusterC_Prob  ClusterD_Prob  \\\n",
       "239         0.0000         0.8456            0.0            0.0   \n",
       "267         0.0000         0.0000            1.0            0.0   \n",
       "413         0.0003         0.9984            0.0            0.0   \n",
       "\n",
       "     ClusterE_Prob  ClusterF_Prob Group  \n",
       "239         0.1063         0.0481  None  \n",
       "267         0.0000         0.0000  None  \n",
       "413         0.0005         0.0008  None  "
      ]
     },
     "execution_count": 59,
     "metadata": {},
     "output_type": "execute_result"
    }
   ],
   "source": [
    "# dfCrises[(dfCrises.Cluster == cholCluster)]\n",
    "\n",
    "# dfCrises[dfCrises.DayWithMostBurials.dt.year == 1872]\n",
    "dfCrises[dfCrises.DayWithMostDeaths.dt.year == 1877]\n",
    "dfCrises[dfCrises.DayWithMostDeaths.dt.year == 1874]\n",
    "# dfCrises[dfCrises.DayWithMostDeaths.dt.year == 1875]"
   ]
  },
  {
   "cell_type": "code",
   "execution_count": 60,
   "metadata": {},
   "outputs": [
    {
     "data": {
      "text/plain": [
       "Index(['Staden København', 'Maribo Amt', 'Odense Amt', 'Københavns Amt',\n",
       "       'Præstø Amt', 'Århus Amt', 'Sorø Amt', 'Holbæk Amt',\n",
       "       'Frederiksborg Amt', 'Ringkøbing Amt', 'Svendborg Amt', 'Vejle Amt',\n",
       "       'Hjørring Amt', 'Ålborg Amt', 'Thisted Amt', 'Ribe Amt',\n",
       "       'Skanderborg Amt', 'Haderslev Amt', 'Randers Amt', 'Viborg Amt',\n",
       "       'Bornholms Amt', 'Sønderborg Amt', 'Åbenrå Amt', 'Nordborg Amt',\n",
       "       'Tønder Amt'],\n",
       "      dtype='object')"
      ]
     },
     "execution_count": 60,
     "metadata": {},
     "output_type": "execute_result"
    }
   ],
   "source": [
    "dfCrises.Amt.value_counts().index"
   ]
  },
  {
   "cell_type": "code",
   "execution_count": 61,
   "metadata": {},
   "outputs": [],
   "source": [
    "allAmts = [\n",
    "'Staden København', \n",
    "'Maribo Amt', \n",
    "'Odense Amt', \n",
    "'Københavns Amt',\n",
    "'Præstø Amt', \n",
    "'Århus Amt', \n",
    "'Sorø Amt', \n",
    "'Holbæk Amt',\n",
    "'Frederiksborg Amt', \n",
    "'Ringkøbing Amt', \n",
    "'Svendborg Amt', \n",
    "'Vejle Amt',\n",
    "'Hjørring Amt', \n",
    "'Ålborg Amt', \n",
    "'Thisted Amt', \n",
    "'Ribe Amt',\n",
    "'Skanderborg Amt', \n",
    "'Haderslev Amt', \n",
    "'Randers Amt', \n",
    "'Viborg Amt',\n",
    "'Bornholms Amt', \n",
    "'Sønderborg Amt', \n",
    "'Åbenrå Amt', \n",
    "'Nordborg Amt',\n",
    "'Tønder Amt',\n",
    "]"
   ]
  },
  {
   "cell_type": "code",
   "execution_count": 62,
   "metadata": {},
   "outputs": [],
   "source": [
    "allAmts = [\n",
    "'Staden København', \n",
    "'Københavns Amt',\n",
    "'Frederiksborg Amt', \n",
    "'Holbæk Amt',\n",
    "'Sorø Amt', \n",
    "'Præstø Amt', \n",
    "'Bornholms Amt', \n",
    "'Maribo Amt', \n",
    "'Odense Amt', \n",
    "'Svendborg Amt', \n",
    "'Hjørring Amt',\n",
    "'Thisted Amt', \n",
    "'Ålborg Amt', \n",
    "'Viborg Amt',\n",
    "'Ringkøbing Amt', \n",
    "'Ribe Amt',\n",
    "'Randers Amt', \n",
    "'Skanderborg Amt', \n",
    "'Århus Amt', \n",
    "'Vejle Amt',\n",
    "'Sønderborg Amt', \n",
    "'Haderslev Amt', \n",
    "'Åbenrå Amt', \n",
    "'Nordborg Amt',\n",
    "'Tønder Amt',\n",
    "]"
   ]
  },
  {
   "cell_type": "code",
   "execution_count": 63,
   "metadata": {},
   "outputs": [
    {
     "name": "stdout",
     "output_type": "stream",
     "text": [
      "Staden København   , 53 , 11090\n",
      "Københavns Amt     , 28 ,  3823\n",
      "Frederiksborg Amt  , 19 ,  1763\n",
      "Holbæk Amt         , 21 ,  4305\n",
      "Sorø Amt           , 22 ,  4511\n",
      "Præstø Amt         , 25 ,  4532\n",
      "Bornholms Amt      ,  7 ,   886\n",
      "Maribo Amt         , 41 ,  6796\n",
      "Odense Amt         , 33 ,  4068\n",
      "Svendborg Amt      , 17 ,  1755\n",
      "Hjørring Amt       , 15 ,  1375\n",
      "Thisted Amt        , 11 ,  1448\n",
      "Ålborg Amt         , 13 ,  1901\n",
      "Viborg Amt         ,  9 ,  1131\n",
      "Ringkøbing Amt     , 19 ,  1757\n",
      "Ribe Amt           , 11 ,   746\n",
      "Randers Amt        ,  9 ,  1039\n",
      "Skanderborg Amt    ,  9 ,   607\n",
      "Århus Amt          , 23 ,  2513\n",
      "Vejle Amt          , 16 ,  1624\n",
      "Sønderborg Amt     ,  3 ,   696\n",
      "Haderslev Amt      ,  9 ,  1083\n",
      "Åbenrå Amt         ,  2 ,   285\n",
      "Nordborg Amt       ,  2 ,   140\n",
      "Tønder Amt         ,  1 ,    58\n"
     ]
    }
   ],
   "source": [
    "# for amt in dfCrises.Amt.unique():\n",
    "for amt in allAmts:\n",
    "\n",
    "    curdfAmt = dfCrises[dfCrises.Amt == amt]\n",
    "    print(f'{amt:18} , {len(curdfAmt):2.0f} , {curdfAmt.Excess.sum():5.0f}')"
   ]
  },
  {
   "cell_type": "code",
   "execution_count": 64,
   "metadata": {},
   "outputs": [],
   "source": [
    "# Define the agegroups analyzed\n",
    "ageGroups = [\n",
    "    ['Total'],\n",
    "    ['Stillborn','0'],\n",
    "    ['1-4','5-9', '10-14'],\n",
    "    ['15-19', '20-24', '25-29', '30-34', '35-39'],\n",
    "    ['40-44', '45-49', '50-54', '55-59'],\n",
    "    ['60-64', '65-69', '70-74', '75-79', '80+']\n",
    "]\n",
    "\n",
    "# And the names used for directories and filenames\n",
    "ageGroupNames = [\n",
    "    'Total',\n",
    "    'Infants_stillborn',\n",
    "    '1-14',\n",
    "    '15-39',\n",
    "    '40-59',\n",
    "    '60+'\n",
    "]\n",
    "\n",
    "ageGroupNamesBaseline = ['Baseline_'+x for x in ageGroupNames[1:]]\n",
    "ageGroupNamesDataSum = ['DataSum_'+x for x in ageGroupNames[1:]]\n"
   ]
  },
  {
   "cell_type": "code",
   "execution_count": 65,
   "metadata": {},
   "outputs": [
    {
     "data": {
      "text/plain": [
       "2.987753250893402"
      ]
     },
     "execution_count": 65,
     "metadata": {},
     "output_type": "execute_result"
    }
   ],
   "source": [
    "dfHarvest[ageGroupNamesDataSum].sum().sum() / dfHarvest[ageGroupNamesBaseline].sum().sum()"
   ]
  },
  {
   "cell_type": "code",
   "execution_count": 66,
   "metadata": {},
   "outputs": [
    {
     "data": {
      "text/plain": [
       "4411"
      ]
     },
     "execution_count": 66,
     "metadata": {},
     "output_type": "execute_result"
    }
   ],
   "source": [
    "dfChol[dfChol.Amt.str.contains('Køben')].Excess.sum()\n",
    "# dfChol[dfChol.Amt.str.contains('Staden ')]"
   ]
  },
  {
   "cell_type": "code",
   "execution_count": 67,
   "metadata": {},
   "outputs": [
    {
     "data": {
      "text/plain": [
       "5154"
      ]
     },
     "execution_count": 67,
     "metadata": {},
     "output_type": "execute_result"
    }
   ],
   "source": [
    "dfChol.Excess.sum()"
   ]
  },
  {
   "cell_type": "code",
   "execution_count": 68,
   "metadata": {},
   "outputs": [],
   "source": [
    "# dfChol2"
   ]
  },
  {
   "cell_type": "code",
   "execution_count": 69,
   "metadata": {},
   "outputs": [],
   "source": [
    "# dfScar"
   ]
  }
 ],
 "metadata": {
  "kernelspec": {
   "display_name": "Python 3.10.0 ('main')",
   "language": "python",
   "name": "python3"
  },
  "language_info": {
   "codemirror_mode": {
    "name": "ipython",
    "version": 3
   },
   "file_extension": ".py",
   "mimetype": "text/x-python",
   "name": "python",
   "nbconvert_exporter": "python",
   "pygments_lexer": "ipython3",
   "version": "3.10.0"
  },
  "orig_nbformat": 4,
  "vscode": {
   "interpreter": {
    "hash": "1231565b209786dac476dcddb6c851658cee15112262a0f5b5be5fa490b6ca1c"
   }
  }
 },
 "nbformat": 4,
 "nbformat_minor": 2
}
